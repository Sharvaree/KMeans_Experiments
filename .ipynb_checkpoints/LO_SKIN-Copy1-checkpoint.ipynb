{
 "cells": [
  {
   "cell_type": "code",
   "execution_count": 1,
   "metadata": {},
   "outputs": [
    {
     "name": "stdout",
     "output_type": "stream",
     "text": [
      "data loaded\n"
     ]
    }
   ],
   "source": [
    "'''\n",
    "Tests on SKIN dataset\n",
    "'''\n",
    "\n",
    "\n",
    "from sklearn.cluster import KMeans\n",
    "from scipy.spatial import distance\n",
    "import numpy as np\n",
    "import pandas as pd\n",
    "import random\n",
    "import scipy.io as scio\n",
    "from numpy import genfromtxt\n",
    "from KmeansPPcenters import KMeanPlusPlus\n",
    "from KMeansOut import kmeansOutliers, cost,  compute_phi_star\n",
    "from sklearn.metrics import average_precision_score, precision_recall_curve\n",
    "from LO import add_noise, KPP_centers, random_centers, LO_cost, LloydOut, KMO_centers, LO_cost2\n",
    "\n",
    "\n",
    "\n",
    "read_data = genfromtxt('realDataProcessed/skin.csv', delimiter=',')\n",
    "print(\"data loaded\")\n",
    "skin_labels= read_data[:,3]\n",
    "skin_data=read_data[:,0:3]\n",
    "\n",
    "num_clusters=[10]\n",
    "zs =[25]\n",
    "min_value= 210\n",
    "max_value=255\n",
    "#min_values=[-16, 0, 7.693475e-08]\n",
    "#max_values= [15, 20, 33]\n",
    "tol= .05\n",
    "itr=1000\n",
    "\n",
    "data= skin_data[0:100,:]\n",
    "#data_with_outliers=skin_data"
   ]
  },
  {
   "cell_type": "code",
   "execution_count": 4,
   "metadata": {},
   "outputs": [
    {
     "name": "stdout",
     "output_type": "stream",
     "text": [
      "num_cluster:10, z:25\n",
      "(100, 3)\n",
      "Precision:0.64, recall:0.64\n",
      "(75,)\n",
      "(75, 3)\n",
      "328.0814729028041\n",
      "Precision:0.92, recall:0.92\n"
     ]
    },
    {
     "ename": "TypeError",
     "evalue": "cannot unpack non-iterable numpy.float64 object",
     "output_type": "error",
     "traceback": [
      "\u001b[0;31m---------------------------------------------------------------------------\u001b[0m",
      "\u001b[0;31mTypeError\u001b[0m                                 Traceback (most recent call last)",
      "\u001b[0;32m<ipython-input-4-47d398622029>\u001b[0m in \u001b[0;36m<module>\u001b[0;34m\u001b[0m\n\u001b[1;32m     24\u001b[0m             \u001b[0mrand_centers\u001b[0m\u001b[0;34m=\u001b[0m \u001b[0mrandom_centers\u001b[0m\u001b[0;34m(\u001b[0m\u001b[0mdata_with_outliers\u001b[0m\u001b[0;34m,\u001b[0m \u001b[0mnum_cluster\u001b[0m\u001b[0;34m)\u001b[0m\u001b[0;34m\u001b[0m\u001b[0;34m\u001b[0m\u001b[0m\n\u001b[1;32m     25\u001b[0m             \u001b[0mcenters\u001b[0m\u001b[0;34m,\u001b[0m \u001b[0mcid\u001b[0m\u001b[0;34m,\u001b[0m \u001b[0mindx_list\u001b[0m\u001b[0;34m,\u001b[0m \u001b[0mprecision\u001b[0m\u001b[0;34m,\u001b[0m \u001b[0mrecall\u001b[0m\u001b[0;34m,\u001b[0m \u001b[0mdata_out\u001b[0m\u001b[0;34m=\u001b[0m \u001b[0mLloydOut\u001b[0m\u001b[0;34m(\u001b[0m\u001b[0mdata_with_outliers\u001b[0m\u001b[0;34m,\u001b[0m \u001b[0mrand_centers\u001b[0m\u001b[0;34m,\u001b[0m \u001b[0mnum_cluster\u001b[0m\u001b[0;34m,\u001b[0m \u001b[0mz\u001b[0m\u001b[0;34m,\u001b[0m \u001b[0mtol\u001b[0m\u001b[0;34m,\u001b[0m \u001b[0mitr\u001b[0m\u001b[0;34m,\u001b[0m \u001b[0mz_indx\u001b[0m\u001b[0;34m)\u001b[0m\u001b[0;34m\u001b[0m\u001b[0;34m\u001b[0m\u001b[0m\n\u001b[0;32m---> 26\u001b[0;31m             \u001b[0mR_cost\u001b[0m\u001b[0;34m,\u001b[0m \u001b[0mindx\u001b[0m\u001b[0;34m=\u001b[0m \u001b[0mLO_cost2\u001b[0m\u001b[0;34m(\u001b[0m\u001b[0mdata_with_outliers\u001b[0m\u001b[0;34m,\u001b[0m \u001b[0mcenters\u001b[0m\u001b[0;34m,\u001b[0m \u001b[0mz\u001b[0m\u001b[0;34m)\u001b[0m\u001b[0;34m\u001b[0m\u001b[0;34m\u001b[0m\u001b[0m\n\u001b[0m\u001b[1;32m     27\u001b[0m             \u001b[0mR_LO_prec\u001b[0m\u001b[0;34m.\u001b[0m\u001b[0mappend\u001b[0m\u001b[0;34m(\u001b[0m\u001b[0mprecision\u001b[0m\u001b[0;34m)\u001b[0m\u001b[0;34m\u001b[0m\u001b[0;34m\u001b[0m\u001b[0m\n\u001b[1;32m     28\u001b[0m             \u001b[0mR_LO_cost\u001b[0m\u001b[0;34m.\u001b[0m\u001b[0mappend\u001b[0m\u001b[0;34m(\u001b[0m\u001b[0mR_cost\u001b[0m\u001b[0;34m)\u001b[0m\u001b[0;34m\u001b[0m\u001b[0;34m\u001b[0m\u001b[0m\n",
      "\u001b[0;31mTypeError\u001b[0m: cannot unpack non-iterable numpy.float64 object"
     ]
    }
   ],
   "source": [
    "KPP_LO_prec=[]\n",
    "R_LO_prec=[]\n",
    "KMO_LO_prec=[]\n",
    "KPP_LO_cost=[]\n",
    "KMO_LO_cost=[]\n",
    "R_LO_cost=[]\n",
    "\n",
    "for num_cluster in num_clusters:\n",
    "    for z in zs:\n",
    "        print(\"num_cluster:{}, z:{}\".format(num_cluster, z))\n",
    "        \n",
    "        for i in range(iterations):\n",
    "            print(data.shape)\n",
    "            data_with_outliers, z_indx, data_inliers = add_noise(data, z, min_value, max_value)\n",
    "            kpp_centers = KPP_centers(data_with_outliers, num_cluster)\n",
    "            centers, cid, indx_list, precision, recall, data_out =LloydOut(data_with_outliers, kpp_centers, num_cluster, z, tol, itr, z_indx )\n",
    "            print(cid.shape)\n",
    "            print(data_inliers.shape)\n",
    "            KPP_cost= LO_cost2(data_with_outliers, centers, z)\n",
    "            print(KPP_cost)\n",
    "            KPP_LO_prec.append(precision)\n",
    "            KPP_LO_cost.append(KPP_cost)\n",
    "            \n",
    "            rand_centers= random_centers(data_with_outliers, num_cluster)\n",
    "            centers, cid, indx_list, precision, recall, data_out= LloydOut(data_with_outliers, rand_centers, num_cluster, z, tol, itr, z_indx)\n",
    "            R_cost= LO_cost2(data_with_outliers, centers, z)\n",
    "            R_LO_prec.append(precision)\n",
    "            R_LO_cost.append(R_cost)\n",
    "            \n",
    "            phi_star= compute_phi_star(data, num_cluster, kpp_centers, z)\n",
    "            kmo_centers= KMO_centers(data_with_outliers, num_cluster, 10000*phi_star, z)\n",
    "            centers, cid, indx_list, precision, recall, data_out= LloydOut(data_with_outliers, kmo_centers, num_cluster, z, tol, itr, z_indx)\n",
    "            KMO_cost= LO_cost2(data_with_outliers, centers, z)\n",
    "            KMO_LO_prec.append(precision)\n",
    "            KMO_LO_cost.append(KMO_cost)\n",
    "            \n",
    "        print(\"KPP:{}, cost:{}\".format(np.mean(np.array(KPP_LO_prec)), np.mean(np.array(KPP_LO_cost))))\n",
    "        print(\"R:{}, cost:{}\".format(np.mean(np.array(R_LO_prec)), np.mean(np.array(R_LO_cost))))\n",
    "        print(\"KMO:{}, cost:{}\".format(np.mean(np.array(KMO_LO_prec)), np.mean(np.array(KMO_LO_cost))))\n",
    "        #with open('your_file.txt', 'w') as f:\n",
    "            #for item in KPP_LO_prec:\n",
    "                #f.write(\"%s\\n\" % item)\n",
    "     "
   ]
  },
  {
   "cell_type": "code",
   "execution_count": null,
   "metadata": {},
   "outputs": [],
   "source": [
    "a=[]\n",
    "for i in range(5):    \n",
    "    a.append(i)\n",
    "a # the list with the new items."
   ]
  },
  {
   "cell_type": "code",
   "execution_count": null,
   "metadata": {},
   "outputs": [],
   "source": [
    "KMO_LO_prec\n"
   ]
  },
  {
   "cell_type": "code",
   "execution_count": null,
   "metadata": {},
   "outputs": [],
   "source": []
  }
 ],
 "metadata": {
  "kernelspec": {
   "display_name": "Python 3",
   "language": "python",
   "name": "python3"
  },
  "language_info": {
   "codemirror_mode": {
    "name": "ipython",
    "version": 3
   },
   "file_extension": ".py",
   "mimetype": "text/x-python",
   "name": "python",
   "nbconvert_exporter": "python",
   "pygments_lexer": "ipython3",
   "version": "3.7.3"
  }
 },
 "nbformat": 4,
 "nbformat_minor": 2
}
