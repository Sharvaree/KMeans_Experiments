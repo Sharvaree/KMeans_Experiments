{
 "cells": [
  {
   "cell_type": "code",
   "execution_count": 14,
   "metadata": {},
   "outputs": [],
   "source": [
    "import numpy as np\n",
    "from scipy.spatial import distance\n",
    "\n",
    "class KMeanPlusPlus:\n",
    "    def __init__(self, num_clusters=3, init=data[0][0]):\n",
    "        self.num_clusters = num_clusters\n",
    "        self.centers = np.atleast_2d(init) #in case the file is (n, ) format\n",
    "        \n",
    "    def fit(self, X):\n",
    "        for i in range(1, self.num_clusters):\n",
    "            # find the distance to the closest center for each of the points\n",
    "            corresponding_centers = self.predict(X) #get closest centers\n",
    "            distance_matrix = distance.cdist(X, self.centers) #get distances\n",
    "            distances = distance_matrix[np.arange(len(X)), corresponding_centers] \n",
    "            dist_prob = distances / sum(distances)\n",
    "            \n",
    "            # pick a new point based on the dist_prob\n",
    "            new_center_index = np.random.choice(np.arange(len(X)), p=dist_prob)\n",
    "            new_center = X[new_center_index]\n",
    "\n",
    "            # add farthest point to centers\n",
    "            self.centers = np.vstack([self.centers, new_center])\n",
    "            \n",
    "        return self\n",
    "    \n",
    "    def predict(self, X):\n",
    "        # compute distance matrix \n",
    "        distances = distance.cdist(X, self.centers)\n",
    "        \n",
    "        # find the closest center\n",
    "        closest_centers = np.argmin(distances, axis=1)\n",
    "        \n",
    "        return closest_centers\n",
    "        \n",
    "    def cost(self, X, mean=False):\n",
    "        # compute closest centers\n",
    "        closest_centers = self.predict(X)\n",
    "        \n",
    "        # find distance to all centers\n",
    "        distances = distance.cdist(X, self.centers)\n",
    "        \n",
    "        # Retain distance only to the point and its assigned center\n",
    "        distances = distances[np.arange(len(distances)), closest_centers]\n",
    "        \n",
    "        if mean == True:\n",
    "            cost = np.sqrt(np.sum(distances ** 2) / len(X))\n",
    "        else:\n",
    "            cost = distances.max()\n",
    "        \n",
    "        return cost    \n"
   ]
  },
  {
   "cell_type": "code",
   "execution_count": 15,
   "metadata": {},
   "outputs": [],
   "source": [
    "from sklearn import cluster, datasets, mixture\n",
    "n_samples=100\n",
    "noisy_circles = datasets.make_circles(n_samples=n_samples, factor=.5,\n",
    "                                      noise=.05)"
   ]
  },
  {
   "cell_type": "code",
   "execution_count": 16,
   "metadata": {},
   "outputs": [],
   "source": [
    "k=KMeanPlusPlus(num_clusters=3)"
   ]
  },
  {
   "cell_type": "code",
   "execution_count": 17,
   "metadata": {},
   "outputs": [
    {
     "data": {
      "text/plain": [
       "array([0.01015513, 0.47241008])"
      ]
     },
     "execution_count": 17,
     "metadata": {},
     "output_type": "execute_result"
    }
   ],
   "source": [
    "data=noisy_circles\n",
    "data[0][0]"
   ]
  },
  {
   "cell_type": "code",
   "execution_count": 18,
   "metadata": {},
   "outputs": [
    {
     "data": {
      "text/plain": [
       "<__main__.KMeanPlusPlus at 0x7fed2c74c5c0>"
      ]
     },
     "execution_count": 18,
     "metadata": {},
     "output_type": "execute_result"
    }
   ],
   "source": [
    "X= data[0]\n",
    "K=KMeanPlusPlus(num_clusters= 3)\n",
    "K.fit(X)"
   ]
  },
  {
   "cell_type": "code",
   "execution_count": 22,
   "metadata": {},
   "outputs": [
    {
     "data": {
      "text/plain": [
       "3"
      ]
     },
     "execution_count": 22,
     "metadata": {},
     "output_type": "execute_result"
    }
   ],
   "source": [
    "K.num_clusters\n"
   ]
  },
  {
   "cell_type": "code",
   "execution_count": null,
   "metadata": {},
   "outputs": [],
   "source": []
  },
  {
   "cell_type": "code",
   "execution_count": null,
   "metadata": {},
   "outputs": [],
   "source": []
  },
  {
   "cell_type": "code",
   "execution_count": null,
   "metadata": {},
   "outputs": [],
   "source": []
  }
 ],
 "metadata": {
  "kernelspec": {
   "display_name": "Python 3",
   "language": "python",
   "name": "python3"
  },
  "language_info": {
   "codemirror_mode": {
    "name": "ipython",
    "version": 3
   },
   "file_extension": ".py",
   "mimetype": "text/x-python",
   "name": "python",
   "nbconvert_exporter": "python",
   "pygments_lexer": "ipython3",
   "version": "3.7.3"
  }
 },
 "nbformat": 4,
 "nbformat_minor": 2
}
