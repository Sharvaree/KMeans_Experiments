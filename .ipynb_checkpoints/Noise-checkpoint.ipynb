{
 "cells": [
  {
   "cell_type": "code",
   "execution_count": 4,
   "metadata": {},
   "outputs": [],
   "source": [
    "import numpy as np\n",
    "from scipy.spatial import distance\n",
    "\n",
    "def compute_phi_star(data, num_clusters, centers, z):\n",
    "    dist_matrix= distance.cdist(data, centers)\n",
    "    dist = np.amin(dist_matrix, axis = 1)\n",
    "    phi_star=np.sum(dist)\n",
    "    return phi_star\n",
    "\n",
    "def add_random_noise(data, z, max_value, min_value):\n",
    "    z_indx= np.random.choice(len(data)-1, z)#pick z random points\n",
    "    #x, d = data.shape\n",
    "    for index in z_indx:\n",
    "        noise= np.random.uniform(max_value, min_value)\n",
    "        data[index]= data[index]+ noise\n",
    "    return data, z_indx\n",
    "\n",
    "def cost(data, cid, centers, z):\n",
    "\n",
    "    dist= distance.cdist(data, np.array(centers))\n",
    "    dist = np.amin(dist, axis = 1)\n",
    "    indx_list = np.argpartition(dist, -z)[-z:] #get index of farthest 2z points\n",
    "    \n",
    "    cid_pruned = cid.copy()\n",
    "    cid_pruned[indx_list] = len(centers) + 1 # comment this line out if you do not want to remove points\n",
    "\n",
    "    cost= np.zeros(len(centers))\n",
    "    for i in range(len(centers)):\n",
    "        cluster_indx = np.where(cid_pruned==i)\n",
    "        cluster_points = data[cluster_indx]\n",
    "        cost[i] = np.mean((cluster_points-centers[i])**2)\n",
    "        \n",
    "    return cost, indx_list\n",
    "\n",
    "\n",
    "def add_random_noise_th(data, z, max_value, min_value):\n",
    "    z_indx= np.random.choice(len(data)-1, z)#pick z random points\n",
    "    #x, d = data.shape\n",
    "    for index in z_indx:\n",
    "        noise= np.random.uniform(max_value, min_value)\n",
    "        data[index]= data[index]+ noise\n",
    "        data= np.clip(data, 0, 255)\n",
    "    return data, z_indx"
   ]
  },
  {
   "cell_type": "code",
   "execution_count": 3,
   "metadata": {},
   "outputs": [
    {
     "name": "stdout",
     "output_type": "stream",
     "text": [
      "[0 1 2 3 4 5 6 7 8 9]\n"
     ]
    },
    {
     "data": {
      "text/plain": [
       "array([1, 1, 2, 3, 4, 5, 6, 7, 8, 8])"
      ]
     },
     "execution_count": 3,
     "metadata": {},
     "output_type": "execute_result"
    }
   ],
   "source": [
    "import numpy as np\n",
    "a = np.arange(10)\n",
    "print(a)\n",
    "np.clip(a, 1, 8)\n",
    "\n"
   ]
  },
  {
   "cell_type": "code",
   "execution_count": null,
   "metadata": {},
   "outputs": [],
   "source": []
  }
 ],
 "metadata": {
  "kernelspec": {
   "display_name": "Python 3",
   "language": "python",
   "name": "python3"
  },
  "language_info": {
   "codemirror_mode": {
    "name": "ipython",
    "version": 3
   },
   "file_extension": ".py",
   "mimetype": "text/x-python",
   "name": "python",
   "nbconvert_exporter": "python",
   "pygments_lexer": "ipython3",
   "version": "3.7.3"
  }
 },
 "nbformat": 4,
 "nbformat_minor": 2
}
