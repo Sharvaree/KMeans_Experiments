{
 "cells": [
  {
   "cell_type": "code",
   "execution_count": 1,
   "metadata": {},
   "outputs": [],
   "source": [
    "from KmeansPPcenters import KMeanPlusPlus\n",
    "from Gonzalez_centers import Gonzalez\n",
    "from sklearn.cluster import KMeans\n",
    "from scipy.spatial import distance\n",
    "import numpy as np\n",
    "import pandas as pd\n",
    "import random\n",
    "import scipy.io as scio\n",
    "from numpy import genfromtxt\n",
    "from KMeansOut import kmeansOutliers, cost\n",
    "from sklearn.metrics import average_precision_score, precision_recall_curve\n",
    "from Noise import add_random_noise, compute_phi_star, cost, add_random_noise_th\n",
    "import pickle"
   ]
  },
  {
   "cell_type": "code",
   "execution_count": 2,
   "metadata": {},
   "outputs": [],
   "source": [
    "dirNam = \"realData/Skin/\"\n",
    "proDir = \"realDataProcessed/\"\n",
    "\n",
    "#Processing skin\n",
    "fileName = \"Skin_NonSkin.txt\"\n",
    "\n",
    "skin = np.genfromtxt(dirNam + fileName, delimiter='')\n",
    "\n",
    "np.savetxt(proDir + \"skin.csv\", skin, delimiter=\",\",  fmt='%f')"
   ]
  },
  {
   "cell_type": "code",
   "execution_count": 3,
   "metadata": {},
   "outputs": [],
   "source": [
    "skin_data = genfromtxt('realDataProcessed/skin.csv', delimiter=',')\n",
    "skin_data=skin_data[:,0:3] #remove the labels\n"
   ]
  },
  {
   "cell_type": "code",
   "execution_count": 4,
   "metadata": {},
   "outputs": [],
   "source": [
    "data= skin_data\n",
    "random_indx= random.randint(0, len(data)-1)\n",
    "init=data[random_indx]\n",
    "num_clusters=[10, 20]\n",
    "zs =[25, 50, 100]\n",
    "min_values=[0, 100]\n",
    "max_values= [200,255]"
   ]
  },
  {
   "cell_type": "code",
   "execution_count": 5,
   "metadata": {},
   "outputs": [
    {
     "name": "stdout",
     "output_type": "stream",
     "text": [
      "num_cluster:10, z:25, min_value:0, max_value:200\n",
      "phi_star:7792927.748418452\n",
      "Precision:0.5, recall:0.5\n",
      "num_cluster:10, z:25, min_value:0, max_value:255\n",
      "phi_star:7740058.8188910615\n",
      "Precision:0.5, recall:0.5\n",
      "num_cluster:10, z:25, min_value:100, max_value:200\n",
      "phi_star:7413917.49465422\n",
      "Precision:0.5, recall:0.5\n",
      "num_cluster:10, z:25, min_value:100, max_value:255\n",
      "phi_star:8120686.739953208\n",
      "Precision:0.5, recall:0.5\n",
      "num_cluster:10, z:50, min_value:0, max_value:200\n",
      "phi_star:7443774.006885074\n",
      "Precision:0.5, recall:0.5\n",
      "num_cluster:10, z:50, min_value:0, max_value:255\n",
      "phi_star:6935323.681895561\n",
      "Precision:0.5, recall:0.5\n",
      "num_cluster:10, z:50, min_value:100, max_value:200\n",
      "phi_star:9236050.868594594\n",
      "Precision:0.5, recall:0.5\n",
      "num_cluster:10, z:50, min_value:100, max_value:255\n",
      "phi_star:9750556.802329747\n",
      "Precision:0.5, recall:0.5\n",
      "num_cluster:10, z:100, min_value:0, max_value:200\n",
      "phi_star:6735704.613621433\n",
      "Precision:0.5, recall:0.5\n",
      "num_cluster:10, z:100, min_value:0, max_value:255\n",
      "phi_star:7359794.375646826\n",
      "Precision:0.5, recall:0.5\n",
      "num_cluster:10, z:100, min_value:100, max_value:200\n",
      "phi_star:6875584.219530147\n",
      "Precision:0.5, recall:0.5\n",
      "num_cluster:10, z:100, min_value:100, max_value:255\n",
      "phi_star:7806699.897744252\n",
      "Precision:0.5, recall:0.5\n",
      "num_cluster:20, z:25, min_value:0, max_value:200\n",
      "phi_star:5436556.273542098\n",
      "Precision:0.5, recall:0.5\n",
      "num_cluster:20, z:25, min_value:0, max_value:255\n",
      "phi_star:5681789.106020882\n",
      "Precision:0.5, recall:0.5\n",
      "num_cluster:20, z:25, min_value:100, max_value:200\n",
      "phi_star:5300110.79939011\n",
      "Precision:0.5, recall:0.5\n",
      "num_cluster:20, z:25, min_value:100, max_value:255\n",
      "phi_star:5058933.616777163\n",
      "Precision:0.5, recall:0.5\n",
      "num_cluster:20, z:50, min_value:0, max_value:200\n",
      "phi_star:4870518.1339723375\n",
      "Precision:0.5, recall:0.5\n",
      "num_cluster:20, z:50, min_value:0, max_value:255\n",
      "phi_star:5495361.7045022575\n",
      "Precision:0.5, recall:0.5\n",
      "num_cluster:20, z:50, min_value:100, max_value:200\n",
      "phi_star:5563246.2182888575\n",
      "Precision:0.5, recall:0.5\n",
      "num_cluster:20, z:50, min_value:100, max_value:255\n",
      "phi_star:5529262.685041413\n",
      "Precision:0.5, recall:0.5\n",
      "num_cluster:20, z:100, min_value:0, max_value:200\n",
      "phi_star:5734509.47798294\n",
      "Precision:0.5, recall:0.5\n",
      "num_cluster:20, z:100, min_value:0, max_value:255\n",
      "phi_star:5245801.902848834\n",
      "Precision:0.5, recall:0.5\n",
      "num_cluster:20, z:100, min_value:100, max_value:200\n",
      "phi_star:5366377.771006571\n",
      "Precision:0.5, recall:0.5\n",
      "num_cluster:20, z:100, min_value:100, max_value:255\n",
      "phi_star:5117532.272735031\n",
      "Precision:0.5, recall:0.5\n"
     ]
    }
   ],
   "source": [
    "for num_cluster in num_clusters:\n",
    "    for z in zs:\n",
    "        for min_value in min_values:\n",
    "            for max_value in max_values:\n",
    "                print(\"num_cluster:{}, z:{}, min_value:{}, max_value:{}\".format(num_cluster, z, min_value, max_value))\n",
    "                data_with_outliers, z_indx = add_random_noise_th(data, z, max_value, min_value)\n",
    "                data_inliers= np.delete(data, z_indx, axis=0)\n",
    "                KPP=KMeanPlusPlus(num_clusters=num_cluster, init=init)\n",
    "                KPP.fit(data_with_outliers)\n",
    "                phi_star= compute_phi_star(data_inliers,num_cluster, KPP.centers, z)\n",
    "                print(\"phi_star:{}\".format(phi_star))\n",
    "                \n",
    "                centers, cid, dist= kmeansOutliers(data_with_outliers, phi_star, z, num_cluster)\n",
    "                costs, z_alg = cost(data_with_outliers, cid, centers, z)\n",
    "                #print(\"Actual_outliers:{}, Calculated_outliers:{}\". format(z_indx, z_alg))\n",
    "                precision = len(z_indx)/(len(z_indx)+ len(np.setdiff1d(z_indx, z_alg)))\n",
    "                recall= precision = len(z_indx)/(len(z_indx)+ len(np.setdiff1d(z_alg, z_indx)))\n",
    "                #x1= KPP.predict(data_with_outliers)\n",
    "                #x2= cid\n",
    "                #precision = len(x1)/(len(x1)+ len(np.setdiff1d(x1, x2)))\n",
    "                #recall= len(x1)/(len(x1)+ len(np.setdiff1d(x2, x1)))\n",
    "                print((\"Precision:{}, recall:{}\". format(precision, recall)))\n",
    "                #print(\"centers: {}, cid: {}, dist: {}\".format(centers, cid, dist))\n",
    "                #print(\"Next\")\n",
    "                \n",
    "                \n",
    "                "
   ]
  },
  {
   "cell_type": "code",
   "execution_count": null,
   "metadata": {},
   "outputs": [],
   "source": []
  }
 ],
 "metadata": {
  "kernelspec": {
   "display_name": "Python 3",
   "language": "python",
   "name": "python3"
  },
  "language_info": {
   "codemirror_mode": {
    "name": "ipython",
    "version": 3
   },
   "file_extension": ".py",
   "mimetype": "text/x-python",
   "name": "python",
   "nbconvert_exporter": "python",
   "pygments_lexer": "ipython3",
   "version": "3.7.3"
  }
 },
 "nbformat": 4,
 "nbformat_minor": 2
}
