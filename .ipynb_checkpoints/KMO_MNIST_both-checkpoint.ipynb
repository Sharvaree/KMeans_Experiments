{
 "cells": [
  {
   "cell_type": "code",
   "execution_count": 1,
   "metadata": {},
   "outputs": [
    {
     "name": "stdout",
     "output_type": "stream",
     "text": [
      "Data loaded\n",
      "PCA done. Considering first 40 principal components\n",
      "Using part of the data\n",
      "Noise added\n",
      "KPP init\n",
      "Phi_star: 220.54011386543144\n",
      "Precision:0.48, recall:0.48\n",
      "Random init\n",
      "Phi_star: 420.3721496347487\n",
      "Precision:0.56, recall:0.56\n"
     ]
    }
   ],
   "source": [
    "from KmeansPPcenters import KMeanPlusPlus\n",
    "from Gonzalez_centers import Gonzalez\n",
    "from sklearn.cluster import KMeans\n",
    "from scipy.spatial import distance\n",
    "import numpy as np\n",
    "import pandas as pd\n",
    "import random\n",
    "import scipy.io as scio\n",
    "from numpy import genfromtxt\n",
    "from KMeansOut import kmeansOutliers, cost\n",
    "from sklearn.metrics import average_precision_score, precision_recall_curve\n",
    "from Noise import add_random_noise, compute_phi_star, cost, add_rand_noise_th\n",
    "from LO import add_noise, KPP_centers, random_centers, LO_cost\n",
    "from LO_figure import LloydOut\n",
    "from sklearn.decomposition import PCA\n",
    "import sklearn.datasets\n",
    "mnist_data = genfromtxt('realDataProcessed/mnist_train.csv', delimiter=',')\n",
    "print(\"Data loaded\")\n",
    "processed_data= np.delete(mnist_data,0, axis=0)\n",
    "labels= processed_data[:, 0:1]\n",
    "data_actual= np.delete(processed_data, 0, axis=1)\n",
    "n_components=40\n",
    "pca = PCA(n_components=n_components)\n",
    "pca.fit(data_actual.T)\n",
    "a= pca.components_\n",
    "print(\"PCA done. Considering first {} principal components\".format(n_components))\n",
    "init= a[np.random.choice(1, len(a)-1)]\n",
    "data=a.T\n",
    "data= data[1:1000, :]\n",
    "print(\"Using part of the data\")\n",
    "\n",
    "num_clusters=10\n",
    "z =25\n",
    "min_value= -16\n",
    "max_value=33\n",
    "#min_values=[-16, 0, 7.693475e-08]\n",
    "#max_values= [15, 20, 33]\n",
    "tol= .05\n",
    "itr=5\n",
    "data_with_outliers, z_indx, data_inliers = add_noise(data, z, min_value, max_value)\n",
    "print(\"Noise added\")\n",
    "\n",
    "centers= KPP_centers(data_with_outliers, num_clusters)\n",
    "print(\"KPP init\")\n",
    "phi_star= compute_phi_star(data_inliers,num_clusters, centers, z)\n",
    "print(\"Phi_star: {}\".format(phi_star))\n",
    "centers, cid, dist= kmeansOutliers(data_with_outliers, phi_star, z, num_clusters)\n",
    "costs, z_alg = cost(data_with_outliers, cid, centers, z)                \n",
    "precision = len(np.intersect1d(z_indx, z_alg))/len(z_indx)\n",
    "recall = len(np.intersect1d(z_indx, z_alg))/len(z_alg)\n",
    "print((\"Precision:{}, recall:{}\". format(precision, recall)))\n",
    "print(\"Random init\")\n",
    "data_with_outliers, z_indx, data_inliers = add_noise(data, z, min_value, max_value)\n",
    "centers= random_centers(data_with_outliers, num_clusters)\n",
    "phi_star= compute_phi_star(data_inliers,num_clusters, centers, z)\n",
    "print(\"Phi_star: {}\".format(phi_star))\n",
    "centers, cid, dist= kmeansOutliers(data_with_outliers, phi_star, z, num_clusters)\n",
    "costs, z_alg = cost(data_with_outliers, cid, centers, z)                \n",
    "precision = len(np.intersect1d(z_indx, z_alg))/len(z_indx)\n",
    "recall = len(np.intersect1d(z_indx, z_alg))/len(z_alg)\n",
    "print((\"Precision:{}, recall:{}\". format(precision, recall)))\n",
    " "
   ]
  },
  {
   "cell_type": "code",
   "execution_count": null,
   "metadata": {},
   "outputs": [],
   "source": []
  }
 ],
 "metadata": {
  "kernelspec": {
   "display_name": "Python 3",
   "language": "python",
   "name": "python3"
  },
  "language_info": {
   "codemirror_mode": {
    "name": "ipython",
    "version": 3
   },
   "file_extension": ".py",
   "mimetype": "text/x-python",
   "name": "python",
   "nbconvert_exporter": "python",
   "pygments_lexer": "ipython3",
   "version": "3.7.3"
  }
 },
 "nbformat": 4,
 "nbformat_minor": 2
}
