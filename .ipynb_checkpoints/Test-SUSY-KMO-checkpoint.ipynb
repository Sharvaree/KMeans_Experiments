{
 "cells": [
  {
   "cell_type": "code",
   "execution_count": 1,
   "metadata": {},
   "outputs": [],
   "source": [
    "import numpy as np\n",
    "import pandas as pd\n",
    "import random\n",
    "import scipy.io as scio\n",
    "from numpy import genfromtxt\n",
    "from sklearn.cluster import KMeans\n",
    "from scipy.spatial import distance\n",
    "from sklearn.metrics import average_precision_score, precision_recall_curve"
   ]
  },
  {
   "cell_type": "code",
   "execution_count": 2,
   "metadata": {},
   "outputs": [],
   "source": [
    "from KmeansPPcenters import KMeanPlusPlus\n",
    "from Gonzalez_centers import Gonzalez\n",
    "from KMeansOut import kmeansOutliers, cost\n",
    "from Noise import add_random_noise, compute_phi_star, cost"
   ]
  },
  {
   "cell_type": "code",
   "execution_count": 3,
   "metadata": {},
   "outputs": [
    {
     "name": "stdout",
     "output_type": "stream",
     "text": [
      "SUSY loaded\n"
     ]
    }
   ],
   "source": [
    "susy_data = pd.read_csv('realData/SUSY/SUSY.csv', header=None)\n",
    "print(\"SUSY loaded\")\n"
   ]
  },
  {
   "cell_type": "code",
   "execution_count": 4,
   "metadata": {},
   "outputs": [
    {
     "data": {
      "text/plain": [
       "0     0.000000e+00\n",
       "1     2.548815e-01\n",
       "2    -2.102927e+00\n",
       "3    -1.734789e+00\n",
       "4     4.285860e-01\n",
       "5    -2.059306e+00\n",
       "6    -1.734202e+00\n",
       "7     2.598711e-04\n",
       "8    -1.727117e+00\n",
       "9     7.693475e-08\n",
       "10   -1.671863e+01\n",
       "11    2.673070e-01\n",
       "12    1.041228e-03\n",
       "13    2.048078e-03\n",
       "14    0.000000e+00\n",
       "15    2.734135e-02\n",
       "16    4.452858e-03\n",
       "17    3.211849e-07\n",
       "18    4.172130e-08\n",
       "dtype: float64"
      ]
     },
     "execution_count": 4,
     "metadata": {},
     "output_type": "execute_result"
    }
   ],
   "source": [
    "np.amin(susy_data)"
   ]
  },
  {
   "cell_type": "code",
   "execution_count": 5,
   "metadata": {},
   "outputs": [
    {
     "data": {
      "text/plain": [
       "7.693475e-08"
      ]
     },
     "execution_count": 5,
     "metadata": {},
     "output_type": "execute_result"
    }
   ],
   "source": [
    "7.693475e-08"
   ]
  },
  {
   "cell_type": "code",
   "execution_count": 6,
   "metadata": {},
   "outputs": [
    {
     "data": {
      "text/plain": [
       "0      1.000000\n",
       "1     20.553450\n",
       "2      2.101605\n",
       "3      1.734839\n",
       "4     33.035622\n",
       "5      2.059721\n",
       "6      1.734686\n",
       "7     21.068876\n",
       "8      1.740689\n",
       "9     23.386438\n",
       "10    20.487904\n",
       "11    21.075718\n",
       "12    16.166821\n",
       "13     6.731210\n",
       "14    20.686245\n",
       "15    21.152262\n",
       "16    15.613705\n",
       "17     1.591660\n",
       "18     1.000000\n",
       "dtype: float64"
      ]
     },
     "execution_count": 6,
     "metadata": {},
     "output_type": "execute_result"
    }
   ],
   "source": [
    "np.amax(susy_data)"
   ]
  },
  {
   "cell_type": "code",
   "execution_count": 7,
   "metadata": {},
   "outputs": [],
   "source": [
    "labels= susy_data.values[:,0:1]"
   ]
  },
  {
   "cell_type": "code",
   "execution_count": 8,
   "metadata": {},
   "outputs": [],
   "source": [
    "processed_data= np.delete(susy_data.values,0, axis=1)\n",
    "data_all= processed_data\n",
    "data_part_8= processed_data[:,0:8]\n",
    "data_part_10= processed_data[:,0:10]"
   ]
  },
  {
   "cell_type": "code",
   "execution_count": 9,
   "metadata": {},
   "outputs": [
    {
     "name": "stdout",
     "output_type": "stream",
     "text": [
      "Using part of the data\n"
     ]
    }
   ],
   "source": [
    "data= data_part_8[0:10000, :]\n",
    "print(\"Using part of the data\")"
   ]
  },
  {
   "cell_type": "code",
   "execution_count": 10,
   "metadata": {},
   "outputs": [
    {
     "name": "stdout",
     "output_type": "stream",
     "text": [
      "num_cluster:10, z:25, min_value:-16, max_value:15\n",
      "Phi_star: 22358.515520280198\n",
      "Precision:0.7575757575757576, recall:0.7575757575757576\n",
      "num_cluster:10, z:25, min_value:-16, max_value:20\n",
      "Phi_star: 21748.042431638085\n",
      "Precision:0.6756756756756757, recall:0.6756756756756757\n",
      "num_cluster:10, z:25, min_value:-16, max_value:33\n",
      "Phi_star: 22717.37705525755\n",
      "Precision:0.6578947368421053, recall:0.6578947368421053\n",
      "num_cluster:10, z:25, min_value:0, max_value:15\n",
      "Phi_star: 23098.35435951625\n",
      "Precision:0.625, recall:0.625\n",
      "num_cluster:10, z:25, min_value:0, max_value:20\n",
      "Phi_star: 24192.058262977873\n",
      "Precision:0.5681818181818182, recall:0.5681818181818182\n",
      "num_cluster:10, z:25, min_value:0, max_value:33\n",
      "Phi_star: 24470.855413785634\n",
      "Precision:0.5434782608695652, recall:0.5434782608695652\n",
      "num_cluster:10, z:25, min_value:7.693475e-08, max_value:15\n",
      "Phi_star: 23088.84618417039\n",
      "Precision:0.5, recall:0.5\n",
      "num_cluster:10, z:25, min_value:7.693475e-08, max_value:20\n",
      "Phi_star: 25995.324918981387\n",
      "Precision:0.5102040816326531, recall:0.5102040816326531\n",
      "num_cluster:10, z:25, min_value:7.693475e-08, max_value:33\n",
      "Phi_star: 24973.609099126\n",
      "Precision:0.5952380952380952, recall:0.5952380952380952\n",
      "num_cluster:10, z:50, min_value:-16, max_value:15\n",
      "Phi_star: 24749.30486451147\n",
      "Precision:0.5882352941176471, recall:0.5882352941176471\n",
      "num_cluster:10, z:50, min_value:-16, max_value:20\n",
      "Phi_star: 25549.783549447544\n",
      "Precision:0.5319148936170213, recall:0.5319148936170213\n",
      "num_cluster:10, z:50, min_value:-16, max_value:33\n",
      "Phi_star: 25803.084947989482\n",
      "Precision:0.5813953488372093, recall:0.5813953488372093\n",
      "num_cluster:10, z:50, min_value:0, max_value:15\n",
      "Phi_star: 29066.616617838376\n",
      "Precision:0.5154639175257731, recall:0.5154639175257731\n",
      "num_cluster:10, z:50, min_value:0, max_value:20\n",
      "Phi_star: 24931.30478836594\n",
      "Precision:0.5050505050505051, recall:0.5050505050505051\n",
      "num_cluster:10, z:50, min_value:0, max_value:33\n",
      "Phi_star: 25352.315186780415\n",
      "Precision:0.5154639175257731, recall:0.5154639175257731\n",
      "num_cluster:10, z:50, min_value:7.693475e-08, max_value:15\n",
      "Phi_star: 29607.54315307723\n",
      "Precision:0.5102040816326531, recall:0.5102040816326531\n",
      "num_cluster:10, z:50, min_value:7.693475e-08, max_value:20\n",
      "Phi_star: 28553.889614312506\n",
      "Precision:0.5050505050505051, recall:0.5050505050505051\n",
      "num_cluster:10, z:50, min_value:7.693475e-08, max_value:33\n",
      "Phi_star: 28709.5924163866\n",
      "Precision:0.5319148936170213, recall:0.5319148936170213\n",
      "num_cluster:10, z:100, min_value:-16, max_value:15\n",
      "Phi_star: 29612.051476977565\n",
      "Precision:0.5076142131979695, recall:0.5076142131979695\n",
      "num_cluster:10, z:100, min_value:-16, max_value:20\n",
      "Phi_star: 29593.039667583726\n",
      "Precision:0.5405405405405406, recall:0.5405405405405406\n",
      "num_cluster:10, z:100, min_value:-16, max_value:33\n",
      "Phi_star: 30733.41272824872\n",
      "Precision:0.5586592178770949, recall:0.5586592178770949\n",
      "num_cluster:10, z:100, min_value:0, max_value:15\n",
      "Phi_star: 31891.66781871359\n",
      "Precision:0.5025125628140703, recall:0.5025125628140703\n",
      "num_cluster:10, z:100, min_value:0, max_value:20\n",
      "Phi_star: 30287.20216065019\n",
      "Precision:0.5050505050505051, recall:0.5050505050505051\n",
      "num_cluster:10, z:100, min_value:0, max_value:33\n",
      "Phi_star: 32384.395186549296\n",
      "Precision:0.546448087431694, recall:0.546448087431694\n",
      "num_cluster:10, z:100, min_value:7.693475e-08, max_value:15\n",
      "Phi_star: 31988.764304593715\n",
      "Precision:0.5128205128205128, recall:0.5128205128205128\n",
      "num_cluster:10, z:100, min_value:7.693475e-08, max_value:20\n",
      "Phi_star: 32773.60863502382\n",
      "Precision:0.5208333333333334, recall:0.5208333333333334\n",
      "num_cluster:10, z:100, min_value:7.693475e-08, max_value:33\n",
      "Phi_star: 34140.50077932057\n",
      "Precision:0.5235602094240838, recall:0.5235602094240838\n",
      "num_cluster:20, z:25, min_value:-16, max_value:15\n",
      "Phi_star: 28045.998645953456\n",
      "Precision:0.5, recall:0.5\n",
      "num_cluster:20, z:25, min_value:-16, max_value:20\n",
      "Phi_star: 25973.85157297038\n",
      "Precision:0.5, recall:0.5\n",
      "num_cluster:20, z:25, min_value:-16, max_value:33\n",
      "Phi_star: 25319.093678068923\n",
      "Precision:0.5208333333333334, recall:0.5208333333333334\n",
      "num_cluster:20, z:25, min_value:0, max_value:15\n",
      "Phi_star: 26202.50852008967\n",
      "Precision:0.5, recall:0.5\n",
      "num_cluster:20, z:25, min_value:0, max_value:20\n",
      "Phi_star: 27642.553104807408\n",
      "Precision:0.5102040816326531, recall:0.5102040816326531\n",
      "num_cluster:20, z:25, min_value:0, max_value:33\n",
      "Phi_star: 27256.414589295295\n",
      "Precision:0.5, recall:0.5\n",
      "num_cluster:20, z:25, min_value:7.693475e-08, max_value:15\n",
      "Phi_star: 29131.690550689393\n",
      "Precision:0.5, recall:0.5\n",
      "num_cluster:20, z:25, min_value:7.693475e-08, max_value:20\n",
      "Phi_star: 26602.368245084566\n",
      "Precision:0.5, recall:0.5\n",
      "num_cluster:20, z:25, min_value:7.693475e-08, max_value:33\n",
      "Phi_star: 26990.869822029876\n",
      "Precision:0.5102040816326531, recall:0.5102040816326531\n",
      "num_cluster:20, z:50, min_value:-16, max_value:15\n",
      "Phi_star: 25862.46753035797\n",
      "Precision:0.5102040816326531, recall:0.5102040816326531\n",
      "num_cluster:20, z:50, min_value:-16, max_value:20\n",
      "Phi_star: 26641.08482696677\n",
      "Precision:0.5050505050505051, recall:0.5050505050505051\n",
      "num_cluster:20, z:50, min_value:-16, max_value:33\n",
      "Phi_star: 28703.994690762607\n",
      "Precision:0.5154639175257731, recall:0.5154639175257731\n",
      "num_cluster:20, z:50, min_value:0, max_value:15\n",
      "Phi_star: 27934.258723761537\n",
      "Precision:0.5102040816326531, recall:0.5102040816326531\n",
      "num_cluster:20, z:50, min_value:0, max_value:20\n",
      "Phi_star: 27409.98650739838\n",
      "Precision:0.5154639175257731, recall:0.5154639175257731\n",
      "num_cluster:20, z:50, min_value:0, max_value:33\n",
      "Phi_star: 32993.09990787571\n",
      "Precision:0.5263157894736842, recall:0.5263157894736842\n",
      "num_cluster:20, z:50, min_value:7.693475e-08, max_value:15\n",
      "Phi_star: 33397.48050749563\n",
      "Precision:0.5, recall:0.5\n",
      "num_cluster:20, z:50, min_value:7.693475e-08, max_value:20\n",
      "Phi_star: 30029.86744042619\n",
      "Precision:0.5, recall:0.5\n",
      "num_cluster:20, z:50, min_value:7.693475e-08, max_value:33\n",
      "Phi_star: 28594.967068910024\n",
      "Precision:0.5319148936170213, recall:0.5319148936170213\n",
      "num_cluster:20, z:100, min_value:-16, max_value:15\n",
      "Phi_star: 31360.906200972968\n",
      "Precision:0.5154639175257731, recall:0.5154639175257731\n",
      "num_cluster:20, z:100, min_value:-16, max_value:20\n",
      "Phi_star: 28713.704855426888\n",
      "Precision:0.5050505050505051, recall:0.5050505050505051\n",
      "num_cluster:20, z:100, min_value:-16, max_value:33\n",
      "Phi_star: 30791.686951033065\n",
      "Precision:0.5128205128205128, recall:0.5128205128205128\n",
      "num_cluster:20, z:100, min_value:0, max_value:15\n",
      "Phi_star: 29265.03776979875\n",
      "Precision:0.5025125628140703, recall:0.5025125628140703\n",
      "num_cluster:20, z:100, min_value:0, max_value:20\n",
      "Phi_star: 30751.907984882848\n",
      "Precision:0.5050505050505051, recall:0.5050505050505051\n",
      "num_cluster:20, z:100, min_value:0, max_value:33\n",
      "Phi_star: 32686.650599389308\n",
      "Precision:0.5181347150259067, recall:0.5181347150259067\n",
      "num_cluster:20, z:100, min_value:7.693475e-08, max_value:15\n",
      "Phi_star: 30950.34229823778\n",
      "Precision:0.5025125628140703, recall:0.5025125628140703\n",
      "num_cluster:20, z:100, min_value:7.693475e-08, max_value:20\n",
      "Phi_star: 30524.131829172107\n",
      "Precision:0.5050505050505051, recall:0.5050505050505051\n",
      "num_cluster:20, z:100, min_value:7.693475e-08, max_value:33\n",
      "Phi_star: 30485.220081610398\n",
      "Precision:0.5263157894736842, recall:0.5263157894736842\n"
     ]
    }
   ],
   "source": [
    "num_clusters=[10, 20]\n",
    "zs =[25, 50,100]\n",
    "min_values=[-16, 0, 7.693475e-08]\n",
    "max_values= [15, 20, 33]\n",
    "\n",
    "for num_cluster in num_clusters:\n",
    "    for z in zs:\n",
    "        for min_value in min_values:\n",
    "            for max_value in max_values:\n",
    "                print(\"num_cluster:{}, z:{}, min_value:{}, max_value:{}\".format(num_cluster, z, min_value, max_value))\n",
    "                #print(\"Adding noise\")\n",
    "                data_with_outliers, z_indx = add_random_noise(data, z, max_value, min_value)\n",
    "                data_inliers= np.delete(data, z_indx, axis=0)\n",
    "                \n",
    "                #print(\"KPP initilization to calculate phi_star\")\n",
    "                init= data[np.random.choice(1, len(data)-1)]\n",
    "                KPP=KMeanPlusPlus(num_clusters=num_cluster, init=init)\n",
    "                KPP.fit(data_with_outliers)\n",
    "                phi_star= compute_phi_star(data_inliers,num_cluster, KPP.centers, z)\n",
    "                print(\"Phi_star: {}\".format(phi_star))\n",
    "                \n",
    "                #print(\"Calculating KMO\")\n",
    "                centers, cid, dist= kmeansOutliers(data_with_outliers, phi_star, z, num_cluster)\n",
    "                costs, z_alg = cost(data_with_outliers, cid, centers, z)\n",
    "                \n",
    "                #print(\"Actual_outliers:{}, Calculated_outliers:{}\". format(z_indx, z_alg))\n",
    "                \n",
    "                #print(\"Calculating precision and recall\")\n",
    "                precision = len(z_indx)/(len(z_indx)+ len(np.setdiff1d(z_indx, z_alg)))\n",
    "                recall= precision = len(z_indx)/(len(z_indx)+ len(np.setdiff1d(z_alg, z_indx)))\n",
    "                \n",
    "                #x1= KPP.predict(data_with_outliers)\n",
    "                #x2= cid\n",
    "                #precision = len(x1)/(len(x1)+ len(np.setdiff1d(x1, x2)))\n",
    "                #recall= len(x1)/(len(x1)+ len(np.setdiff1d(x2, x1)))\n",
    "                #print(x1)\n",
    "                #print(cid)\n",
    "                print((\"Precision:{}, recall:{}\". format(precision, recall)))\n",
    "                #print(\"centers: {}, cid: {}, dist: {}\".format(centers, cid, dist))\n",
    "                #print(\"Next\")\n",
    "                \n",
    "                "
   ]
  }
 ],
 "metadata": {
  "kernelspec": {
   "display_name": "Python 3",
   "language": "python",
   "name": "python3"
  },
  "language_info": {
   "codemirror_mode": {
    "name": "ipython",
    "version": 3
   },
   "file_extension": ".py",
   "mimetype": "text/x-python",
   "name": "python",
   "nbconvert_exporter": "python",
   "pygments_lexer": "ipython3",
   "version": "3.7.3"
  }
 },
 "nbformat": 4,
 "nbformat_minor": 2
}
