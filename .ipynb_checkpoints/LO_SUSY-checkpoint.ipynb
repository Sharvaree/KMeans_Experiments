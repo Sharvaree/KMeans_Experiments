{
 "cells": [
  {
   "cell_type": "code",
   "execution_count": 11,
   "metadata": {},
   "outputs": [],
   "source": [
    "from KmeansPPcenters import KMeanPlusPlus\n",
    "from Gonzalez_centers import Gonzalez\n",
    "from sklearn.cluster import KMeans\n",
    "from scipy.spatial import distance\n",
    "import numpy as np\n",
    "import pandas as pd\n",
    "import random\n",
    "import scipy.io as scio\n",
    "from numpy import genfromtxt\n",
    "from KMeansOut import kmeansOutliers, cost\n",
    "from sklearn.metrics import average_precision_score, precision_recall_curve\n",
    "from Noise import add_random_noise, compute_phi_star, cost, add_rand_noise_th\n",
    "from LO import add_noise, KPP_centers, random_centers, LO_cost\n",
    "from LO_figure import LloydOut\n",
    "susy_data = pd.read_csv('realData/SUSY/SUSY.csv', header=None)\n",
    "labels= susy_data.values[:,0:1]\n",
    "processed_data= np.delete(susy_data.values,0, axis=1)\n",
    "data_all= processed_data\n",
    "data_part_8= processed_data[1:1000,0:8]\n",
    "data_part_10= processed_data[:,0:10]\n",
    "data= data_part_8\n",
    "num_clusters=10\n",
    "z =25\n",
    "min_value= -16\n",
    "max_value=33\n",
    "#min_values=[-16, 0, 7.693475e-08]\n",
    "#max_values= [15, 20, 33]\n",
    "tol= .05\n",
    "itr=5\n",
    "data_with_outliers, z_indx, data_inliers = add_noise(data, z, min_value, max_value)\n",
    "centers= KPP_centers(data_with_outliers, num_clusters)\n",
    "centers, index=LloydOut(data_with_outliers, centers, num_clusters, z, tol, itr, z_indx )\n",
    "data_with_outliers, z_indx, data_inliers = add_noise(data, z, min_value, max_value)\n",
    "centers= random_centers(data_with_outliers, num_clusters)\n",
    "centers, index= LloydOut(data_with_outliers, centers, num_clusters, z, tol, itr, z_indx)"
   ]
  },
  {
   "cell_type": "code",
   "execution_count": null,
   "metadata": {},
   "outputs": [],
   "source": []
  }
 ],
 "metadata": {
  "kernelspec": {
   "display_name": "Python 3",
   "language": "python",
   "name": "python3"
  },
  "language_info": {
   "codemirror_mode": {
    "name": "ipython",
    "version": 3
   },
   "file_extension": ".py",
   "mimetype": "text/x-python",
   "name": "python",
   "nbconvert_exporter": "python",
   "pygments_lexer": "ipython3",
   "version": "3.7.3"
  }
 },
 "nbformat": 4,
 "nbformat_minor": 2
}
