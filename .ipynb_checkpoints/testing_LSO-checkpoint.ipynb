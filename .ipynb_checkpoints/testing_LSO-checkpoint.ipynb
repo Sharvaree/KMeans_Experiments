{
 "cells": [
  {
   "cell_type": "code",
   "execution_count": 3,
   "metadata": {},
   "outputs": [],
   "source": [
    "import numpy as np\n",
    "from scipy.spatial import distance\n",
    "import math\n",
    "import random\n",
    "import time"
   ]
  },
  {
   "cell_type": "code",
   "execution_count": 2,
   "metadata": {},
   "outputs": [],
   "source": [
    "def rowMult(m, v):\n",
    "    return np.multiply(m,v)"
   ]
  },
  {
   "cell_type": "code",
   "execution_count": 4,
   "metadata": {},
   "outputs": [],
   "source": [
    "def cost2im(data, centers,z,w):\n",
    "    dist= distance.cdist(data, np.array(centers))\n",
    "    dist = rowMult(dist,w)\n",
    "    dist = np.amin(dist, axis = 1)\n",
    "    s = np.sort(dist)\n",
    "    s = s[:len(dist) - z- 1]\n",
    "    return np.sum(s)"
   ]
  },
  {
   "cell_type": "code",
   "execution_count": 5,
   "metadata": {},
   "outputs": [],
   "source": [
    "def cost_per_ptim(data, centers,w):\n",
    "    dist= distance.cdist(data, np.array(centers))\n",
    "    dist = rowMult(dist,w)\n",
    "    dist = np.amin(dist, axis = 1) #axis 0 is across column,s #axis 1 is across rows\n",
    "    return dist"
   ]
  },
  {
   "cell_type": "code",
   "execution_count": null,
   "metadata": {},
   "outputs": [],
   "source": [
    "def cost_per_pt_w_centers_eliminatedim(data, centers,w):\n",
    "    costs=[]\n",
    "    for i in range(len(centers)):\n",
    "        centerswithoutkth = np.delete(np.array(centers), [i], axis=0)\n",
    "        costs.append(cost_per_ptim(data, centerswithoutkth,w))\n",
    "    return costs\n",
    "\n",
    "def outliersim(data, centers,z,w):\n",
    "    dist= distance.cdist(data, np.array(centers))\n",
    "    dist = rowMult(dist,w)\n",
    "    dist = np.amin(dist, axis = 1)\n",
    "    s = np.argsort(dist)\n",
    "    return s[len(dist) - z:]"
   ]
  }
 ],
 "metadata": {
  "kernelspec": {
   "display_name": "Python 3",
   "language": "python",
   "name": "python3"
  },
  "language_info": {
   "codemirror_mode": {
    "name": "ipython",
    "version": 3
   },
   "file_extension": ".py",
   "mimetype": "text/x-python",
   "name": "python",
   "nbconvert_exporter": "python",
   "pygments_lexer": "ipython3",
   "version": "3.7.3"
  }
 },
 "nbformat": 4,
 "nbformat_minor": 2
}
