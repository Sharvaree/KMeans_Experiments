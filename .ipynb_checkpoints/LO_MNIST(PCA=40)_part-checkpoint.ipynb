{
 "cells": [
  {
   "cell_type": "code",
   "execution_count": 1,
   "metadata": {},
   "outputs": [],
   "source": [
    "from KmeansPPcenters import KMeanPlusPlus\n",
    "from Gonzalez_centers import Gonzalez\n",
    "from sklearn.cluster import KMeans\n",
    "from scipy.spatial import distance\n",
    "import numpy as np\n",
    "import pandas as pd\n",
    "import random\n",
    "import scipy.io as scio\n",
    "from numpy import genfromtxt\n",
    "from KMeansOut import kmeansOutliers, cost\n",
    "from sklearn.metrics import average_precision_score, precision_recall_curve\n",
    "from Noise import add_random_noise, compute_phi_star, cost, add_rand_noise_th\n",
    "from LO import add_noise, KPP_centers, random_centers, LO_cost, LloydOut\n",
    "#from LO_figure import LloydOut\n",
    "from sklearn.decomposition import PCA\n",
    "import sklearn.datasets\n",
    "mnist_data = genfromtxt('realDataProcessed/mnist_train.csv', delimiter=',')\n",
    "print(\"Data loaded\")\n",
    "processed_data= np.delete(mnist_data,0, axis=0)\n",
    "labels= processed_data[:, 0:1]\n",
    "data_actual= np.delete(processed_data, 0, axis=1)\n",
    "n_components=40\n",
    "pca = PCA(n_components=n_components)\n",
    "pca.fit(data_actual.T)\n",
    "a= pca.components_\n",
    "print(\"PCA done. Considering first {} principal components\".format(n_components))\n",
    "init= a[np.random.choice(1, len(a)-1)]\n",
    "data=a.T\n",
    "data= data[0:8000, :]\n",
    "num_clusters=10\n",
    "z=25\n",
    "min_value= [-0.022]\n",
    "max_value=[.023]\n",
    "tol=.01\n",
    "itr=10\n",
    "#PCA 20\n",
    "#min_values=[-0.019954221635605316,0]\n",
    "#max_values= [5, 9.79]\n",
    "data_with_outliers, z_indx, data_inliers = add_noise(data, z, min_value, max_value)\n",
    "centers= KPP_centers(data_with_outliers, num_clusters)\n",
    "centers, index=LloydOut(data_with_outliers, centers, num_clusters, z, tol, itr, z_indx )\n",
    "data_with_outliers, z_indx, data_inliers = add_noise(data, z, min_value, max_value)\n",
    "centers= random_centers(data_with_outliers, num_clusters)\n",
    "centers, index= LloydOut(data_with_outliers, centers, num_clusters, z, tol, itr, z_indx)"
   ]
  }
 ],
 "metadata": {
  "kernelspec": {
   "display_name": "Python 3",
   "language": "python",
   "name": "python3"
  },
  "language_info": {
   "codemirror_mode": {
    "name": "ipython",
    "version": 3
   },
   "file_extension": ".py",
   "mimetype": "text/x-python",
   "name": "python",
   "nbconvert_exporter": "python",
   "pygments_lexer": "ipython3",
   "version": "3.7.3"
  }
 },
 "nbformat": 4,
 "nbformat_minor": 2
}
