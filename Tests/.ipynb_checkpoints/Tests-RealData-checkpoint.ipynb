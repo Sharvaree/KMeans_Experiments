{
 "cells": [
  {
   "cell_type": "code",
   "execution_count": 162,
   "metadata": {},
   "outputs": [],
   "source": [
    "import sys\n",
    "sys.path.insert(1, '../lib/')\n",
    "from KmeansPPcenters import KMeanPlusPlus\n",
    "from Gonzalez_centers import Gonzalez\n",
    "from sklearn.cluster import KMeans\n",
    "from scipy.spatial import distance\n",
    "import numpy as np\n",
    "import pandas as pd\n",
    "from numpy import genfromtxt\n",
    "from KMeansOut import kmeansOutliers, cost"
   ]
  },
  {
   "cell_type": "code",
   "execution_count": 163,
   "metadata": {},
   "outputs": [],
   "source": [
    "dirNam = \"realData/Skin/\"\n",
    "proDir = \"realDataProcessed/\"\n",
    "\n",
    "#Processing skin\n",
    "fileName = \"Skin_NonSkin.txt\"\n",
    "\n",
    "skin = np.genfromtxt(dirNam + fileName, delimiter='')\n",
    "\n",
    "np.savetxt(proDir + \"skin.csv\", skin, delimiter=\",\",  fmt='%f')"
   ]
  },
  {
   "cell_type": "code",
   "execution_count": 169,
   "metadata": {},
   "outputs": [],
   "source": [
    "skin_data = genfromtxt('realDataProcessed/skin.csv', delimiter=',')\n",
    "skin_data=skin_data[:,0:3] #remove the labels\n"
   ]
  },
  {
   "cell_type": "code",
   "execution_count": 159,
   "metadata": {},
   "outputs": [
    {
     "name": "stdout",
     "output_type": "stream",
     "text": [
      "<class 'numpy.ndarray'>\n",
      "CPU times: user 239 ms, sys: 5.63 ms, total: 245 ms\n",
      "Wall time: 246 ms\n"
     ]
    }
   ],
   "source": [
    "%%time\n",
    "\n",
    "data= skin_data\n",
    "num_clusters= 5\n",
    "init=data[0]\n",
    "\n",
    "#Get KPP centers\n",
    "KPP=KMeanPlusPlus(num_clusters=num_clusters, init=init)\n",
    "KPP.fit(data)\n",
    "KPP_centers= KPP.centers\n",
    "print(type(KPP_centers))\n"
   ]
  },
  {
   "cell_type": "code",
   "execution_count": 12,
   "metadata": {},
   "outputs": [],
   "source": [
    "data= skin_data\n",
    "num_clusters= 10\n",
    "init=data[0]\n",
    "\n",
    "#Get Gonzalez centers\n",
    "#GC_centers = Gonzalez(data, num_clusters=num_clusters, init=init)\n",
    "#print(GC_centers)"
   ]
  },
  {
   "cell_type": "code",
   "execution_count": 168,
   "metadata": {},
   "outputs": [
    {
     "name": "stdout",
     "output_type": "stream",
     "text": [
      "CPU times: user 205 ms, sys: 4.01 ms, total: 209 ms\n",
      "Wall time: 210 ms\n"
     ]
    }
   ],
   "source": [
    "\n",
    "\n",
    "#With Gonzalez intialization\n",
    "#kmeans = KMeans(n_clusters=num_clusters, init=GC_centers)\n",
    "# Fitting the input data\n",
    "#kmeans = kmeans.fit(data)\n",
    "\n",
    "# Centroid values\n",
    "#centroids = kmeans.cluster_centers_\n",
    "#print(\"Gconzalez: {}\".format(centroids))\n",
    "\n",
    "#KPP=KMeanPlusPlus(num_clusters=num_clusters, init=init)\n",
    "#KPP.fit(data)\n",
    "#KPP_centers= KPP.centers\n",
    "\n",
    "#With KMeans++ intialization\n",
    "#kmeans = KMeans(n_clusters=num_clusters, init=KPP_centers)\n",
    "# Fitting the input data\n",
    "#kmeans = kmeans.fit(data)\n",
    "\n",
    "# Centroid values\n",
    "#centroids = kmeans.cluster_centers_\n",
    "#print(\"KPP: {}\".format(centroids))\n",
    "\n",
    "#With random intialization\n",
    "#kmeans = KMeans(n_clusters=num_clusters, init=\"random\")\n",
    "# Fitting the input data\n",
    "#kmeans = kmeans.fit(data)\n",
    "\n",
    "# Centroid values\n",
    "#centroids = kmeans.cluster_centers_\n",
    "#print(\"Random: {}\".format(centroids))"
   ]
  },
  {
   "cell_type": "code",
   "execution_count": 28,
   "metadata": {},
   "outputs": [
    {
     "data": {
      "text/plain": [
       "array([-0.2468672 , -0.14161304, -0.5406732 , -0.99470019, -0.31080186,\n",
       "       -0.13064341, -0.78952596, -0.52984499, -0.30404915, -0.49054782])"
      ]
     },
     "execution_count": 28,
     "metadata": {},
     "output_type": "execute_result"
    }
   ],
   "source": [
    "kmeansOutliers(data, phi_star, z, num_clusters)"
   ]
  },
  {
   "cell_type": "code",
   "execution_count": 56,
   "metadata": {},
   "outputs": [],
   "source": [
    "def compute_phi_star(data, num_clusters, centers, z):\n",
    "    dist_matrix= distance.cdist(data, centers)\n",
    "    dist = np.amin(dist_matrix, axis = 1)\n",
    "    phi_star=np.sum(dist)\n",
    "    return phi_star"
   ]
  },
  {
   "cell_type": "code",
   "execution_count": 171,
   "metadata": {},
   "outputs": [],
   "source": [
    "#pick z number of random index from the data\n",
    "def add_random_noise(data, z, max_value, min_value):\n",
    "    z_indx= np.random.choice(len(data)-1, z)#pick z random points\n",
    "    #x, d = data.shape\n",
    "    for index in z_indx:\n",
    "        noise= np.random.uniform(max_value, min_value)\n",
    "        data[index]= data[index]+ noise\n",
    "    return data, z_indx"
   ]
  },
  {
   "cell_type": "code",
   "execution_count": 185,
   "metadata": {},
   "outputs": [
    {
     "name": "stdout",
     "output_type": "stream",
     "text": [
      "(245057, 3)\n",
      "(245047, 3)\n"
     ]
    }
   ],
   "source": [
    "data= skin_data\n",
    "z=10\n",
    "max_value= 10\n",
    "min_value=0\n",
    "\n",
    "data_with_outliers, z_indx = add_random_noise(data, z, max_value, min_value)\n",
    "data_inliers= np.delete(data, z_indx, axis=0)\n"
   ]
  },
  {
   "cell_type": "code",
   "execution_count": 187,
   "metadata": {},
   "outputs": [
    {
     "name": "stdout",
     "output_type": "stream",
     "text": [
      "16780159.425806165\n"
     ]
    }
   ],
   "source": [
    "KPP=KMeanPlusPlus(num_clusters=num_clusters, init=init)\n",
    "KPP.fit(data)\n",
    "KPP_centers= KPP.centers\n",
    "phi_star= compute_phi_star(data_inliers, 10, KPP_centers, 10)\n",
    "print(phi_star)"
   ]
  },
  {
   "cell_type": "code",
   "execution_count": 189,
   "metadata": {},
   "outputs": [
    {
     "data": {
      "text/plain": [
       "5"
      ]
     },
     "execution_count": 189,
     "metadata": {},
     "output_type": "execute_result"
    }
   ],
   "source": [
    "kmeansOutliers(data, phi_star, z, num_clusters)\n"
   ]
  }
 ],
 "metadata": {
  "kernelspec": {
   "display_name": "Python 3",
   "language": "python",
   "name": "python3"
  },
  "language_info": {
   "codemirror_mode": {
    "name": "ipython",
    "version": 3
   },
   "file_extension": ".py",
   "mimetype": "text/x-python",
   "name": "python",
   "nbconvert_exporter": "python",
   "pygments_lexer": "ipython3",
   "version": "3.6.5"
  }
 },
 "nbformat": 4,
 "nbformat_minor": 2
}
