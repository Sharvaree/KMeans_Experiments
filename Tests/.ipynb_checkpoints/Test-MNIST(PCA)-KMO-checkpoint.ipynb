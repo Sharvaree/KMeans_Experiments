{
 "cells": [
  {
   "cell_type": "code",
   "execution_count": 1,
   "metadata": {},
   "outputs": [],
   "source": [
    "import sys\n",
    "sys.path.insert(1, '../lib/')\n",
    "from KmeansPPcenters import KMeanPlusPlus\n",
    "from Gonzalez_centers import Gonzalez\n",
    "from sklearn.cluster import KMeans\n",
    "from scipy.spatial import distance\n",
    "import numpy as np\n",
    "import pandas as pd\n",
    "import random\n",
    "import scipy.io as scio\n",
    "from numpy import genfromtxt\n",
    "import matplotlib.pyplot as plt\n",
    "from mpl_toolkits.mplot3d import axes3d\n",
    "from KMeansOut import kmeansOutliers, cost\n",
    "from sklearn.metrics import average_precision_score, precision_recall_curve\n",
    "from Noise import add_random_noise, compute_phi_star, cost\n",
    "import pickle\n",
    "from sklearn.decomposition import PCA\n",
    "import sklearn.datasets"
   ]
  },
  {
   "cell_type": "code",
   "execution_count": 2,
   "metadata": {},
   "outputs": [
    {
     "name": "stdout",
     "output_type": "stream",
     "text": [
      "Data loaded\n"
     ]
    }
   ],
   "source": [
    "mnist_data = genfromtxt('realDataProcessed/mnist_train.csv', delimiter=',')\n",
    "print(\"Data loaded\")\n",
    "processed_data= np.delete(mnist_data,0, axis=0)\n",
    "labels= processed_data[:, 0:1]\n",
    "data_actual= np.delete(processed_data, 0, axis=1)\n"
   ]
  },
  {
   "cell_type": "code",
   "execution_count": 3,
   "metadata": {},
   "outputs": [
    {
     "data": {
      "text/plain": [
       "(60000,)"
      ]
     },
     "execution_count": 3,
     "metadata": {},
     "output_type": "execute_result"
    }
   ],
   "source": [
    "b= labels.reshape(60000)\n",
    "b.shape"
   ]
  },
  {
   "cell_type": "code",
   "execution_count": 4,
   "metadata": {},
   "outputs": [
    {
     "name": "stdout",
     "output_type": "stream",
     "text": [
      "PCA done. Considering first 40 principal components\n"
     ]
    }
   ],
   "source": [
    "n_components=40\n",
    "pca = PCA(n_components=n_components)\n",
    "pca.fit(data_actual.T)\n",
    "a= pca.components_\n",
    "print(\"PCA done. Considering first {} principal components\".format(n_components))\n",
    "init= a[np.random.choice(1, len(a)-1)]\n",
    "data=a.T\n",
    "data= data[0:8000, :]"
   ]
  },
  {
   "cell_type": "code",
   "execution_count": 6,
   "metadata": {},
   "outputs": [
    {
     "name": "stdout",
     "output_type": "stream",
     "text": [
      "num_cluster:10, z:25, min_value:-0.022, max_value:0.023\n",
      "Precision:0.48, recall:0.48\n",
      "num_cluster:10, z:50, min_value:-0.022, max_value:0.023\n",
      "Precision:0.58, recall:0.58\n",
      "num_cluster:10, z:100, min_value:-0.022, max_value:0.023\n",
      "Precision:0.52, recall:0.52\n",
      "num_cluster:20, z:25, min_value:-0.022, max_value:0.023\n",
      "Precision:0.12, recall:0.12\n",
      "num_cluster:20, z:50, min_value:-0.022, max_value:0.023\n",
      "Precision:0.16, recall:0.16\n",
      "num_cluster:20, z:100, min_value:-0.022, max_value:0.023\n",
      "Precision:0.28, recall:0.28\n"
     ]
    }
   ],
   "source": [
    "num_clusters=[10, 20]\n",
    "zs =[25, 50,100]\n",
    "min_values= [-0.022]\n",
    "max_values=[.023]\n",
    "#PCA 20\n",
    "#min_values=[-0.019954221635605316,0]\n",
    "#max_values= [5, 9.79]\n",
    "\n",
    "for num_cluster in num_clusters:\n",
    "    for z in zs:\n",
    "        for min_value in min_values:\n",
    "            for max_value in max_values:\n",
    "                print(\"num_cluster:{}, z:{}, min_value:{}, max_value:{}\".format(num_cluster, z, min_value, max_value))\n",
    "                data_with_outliers, z_indx = add_random_noise(data, z, max_value, min_value)\n",
    "                #print(\"Added noise\")\n",
    "                data_inliers= np.delete(data, z_indx, axis=0)\n",
    "                init= data[np.random.choice(1, len(data)-1)]\n",
    "                KPP=KMeanPlusPlus(num_clusters=num_cluster, init=init)\n",
    "                KPP.fit(data_with_outliers)\n",
    "                phi_star= compute_phi_star(data_inliers,num_cluster, KPP.centers, z)\n",
    "                #print(\"K means with outliers using thresholding\")\n",
    "                centers, cid, dist= kmeansOutliers(data_with_outliers, phi_star, z, num_cluster)\n",
    "                costs, z_alg = cost(data_with_outliers, cid, centers, z)\n",
    "                #print(\"Actual_outliers:{}, Calculated_outliers:{}\". format(z_indx, z_alg))\n",
    "                #print(\"Calculating precision and recall \")\n",
    "                precision = len(np.intersect1d(z_indx, z_alg))/len(z_indx)\n",
    "                recall = len(np.intersect1d(z_indx, z_alg))/len(z_alg)\n",
    "                #x1= KPP.predict(data_with_outliers)\n",
    "                #x2= cid\n",
    "                #precision = len(x1)/(len(x1)+ len(np.setdiff1d(x1, x2)))\n",
    "                #recall= len(x1)/(len(x1)+ len(np.setdiff1d(x2, x1)))\n",
    "                #print(x1)\n",
    "                #print(cid)\n",
    "                print((\"Precision:{}, recall:{}\". format(precision, recall)))\n",
    "                #print(\"centers: {}, cid: {}, dist: {}\".format(centers, cid, dist))\n",
    "                #print(\"Next\")\n",
    "                 \n",
    "                \n",
    "                \n",
    "                "
   ]
  },
  {
   "cell_type": "code",
   "execution_count": null,
   "metadata": {},
   "outputs": [],
   "source": []
  }
 ],
 "metadata": {
  "kernelspec": {
   "display_name": "Python 3",
   "language": "python",
   "name": "python3"
  },
  "language_info": {
   "codemirror_mode": {
    "name": "ipython",
    "version": 3
   },
   "file_extension": ".py",
   "mimetype": "text/x-python",
   "name": "python",
   "nbconvert_exporter": "python",
   "pygments_lexer": "ipython3",
   "version": "3.6.5"
  }
 },
 "nbformat": 4,
 "nbformat_minor": 2
}
