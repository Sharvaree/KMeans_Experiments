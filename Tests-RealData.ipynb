{
 "cells": [
  {
   "cell_type": "code",
   "execution_count": 56,
   "metadata": {},
   "outputs": [],
   "source": [
    "from KmeansPPcenters import KMeanPlusPlus\n",
    "from Gonzalez_centers import Gonzalez\n",
    "from sklearn.cluster import KMeans\n",
    "import numpy as np\n",
    "import pandas as pd\n",
    "from numpy import genfromtxt\n"
   ]
  },
  {
   "cell_type": "code",
   "execution_count": 57,
   "metadata": {},
   "outputs": [],
   "source": [
    "dirNam = \"realData/Skin/\"\n",
    "proDir = \"realDataProcessed/\"\n",
    "\n",
    "#Processing skin\n",
    "fileName = \"Skin_NonSkin.txt\"\n",
    "\n",
    "skin = np.genfromtxt(dirNam + fileName, delimiter='')\n",
    "\n",
    "np.savetxt(proDir + \"skin.csv\", skin, delimiter=\",\",  fmt='%f')"
   ]
  },
  {
   "cell_type": "code",
   "execution_count": 64,
   "metadata": {},
   "outputs": [],
   "source": [
    "skin_data = genfromtxt('realDataProcessed/skin.csv', delimiter=',')\n",
    "skin_data=skin_data[:,0:3]"
   ]
  },
  {
   "cell_type": "code",
   "execution_count": 66,
   "metadata": {},
   "outputs": [
    {
     "name": "stdout",
     "output_type": "stream",
     "text": [
      "[[ 74.  85. 123.]\n",
      " [162. 160. 112.]\n",
      " [ 80.  83.  34.]]\n",
      "[[ 74.  85. 123.]\n",
      " [255. 255. 255.]\n",
      " [  0.   0.   0.]]\n",
      "CPU times: user 30.5 s, sys: 19.8 ms, total: 30.5 s\n",
      "Wall time: 30.5 s\n"
     ]
    }
   ],
   "source": [
    "%%time\n",
    "data= skin_data\n",
    "num_clusters= 3\n",
    "init=data[0]\n",
    "\n",
    "#Get KPP centers\n",
    "KPP=KMeanPlusPlus(num_clusters=num_clusters, init=init)\n",
    "KPP.fit(data)\n",
    "KPP_centers= KPP.centers\n",
    "print(KPP_centers)\n",
    "\n",
    "#Get Gonzalez centers\n",
    "GC_centers = Gonzalez(data, num_clusters=num_clusters, init=init)\n",
    "print(GC_centers)"
   ]
  },
  {
   "cell_type": "code",
   "execution_count": 67,
   "metadata": {},
   "outputs": [
    {
     "name": "stderr",
     "output_type": "stream",
     "text": [
      "/home/sharv/Programs/anaconda3/lib/python3.7/site-packages/sklearn/cluster/k_means_.py:971: RuntimeWarning: Explicit initial center position passed: performing only one init in k-means instead of n_init=10\n",
      "  return_n_iter=True)\n"
     ]
    },
    {
     "name": "stdout",
     "output_type": "stream",
     "text": [
      "Gconzalez: [[174.54639777 171.00095552 129.76263318]\n",
      " [111.10043457 144.37944057 212.02359109]\n",
      " [ 51.79284687  56.34437356  36.98455144]]\n"
     ]
    },
    {
     "name": "stderr",
     "output_type": "stream",
     "text": [
      "/home/sharv/Programs/anaconda3/lib/python3.7/site-packages/sklearn/cluster/k_means_.py:971: RuntimeWarning: Explicit initial center position passed: performing only one init in k-means instead of n_init=10\n",
      "  return_n_iter=True)\n"
     ]
    },
    {
     "name": "stdout",
     "output_type": "stream",
     "text": [
      "KPP: [[110.38778667 143.465208   210.98490335]\n",
      " [ 51.59865098  55.97689283  35.67638179]\n",
      " [174.51677864 170.97387924 129.7386065 ]]\n",
      "Random: [[ 51.81531715  56.32050348  36.66807494]\n",
      " [174.57645387 171.02865434 129.79719463]\n",
      " [110.9059832  144.12531565 211.7424802 ]]\n",
      "CPU times: user 4.36 s, sys: 80 ms, total: 4.44 s\n",
      "Wall time: 2.44 s\n"
     ]
    }
   ],
   "source": [
    "%%time\n",
    "#With Gonzalez intialization\n",
    "kmeans = KMeans(n_clusters=num_clusters, init=GC_centers)\n",
    "# Fitting the input data\n",
    "kmeans = kmeans.fit(data)\n",
    "\n",
    "# Centroid values\n",
    "centroids = kmeans.cluster_centers_\n",
    "print(\"Gconzalez: {}\".format(centroids))\n",
    "\n",
    "#With KMeans++ intialization\n",
    "kmeans = KMeans(n_clusters=num_clusters, init=KPP_centers)\n",
    "# Fitting the input data\n",
    "kmeans = kmeans.fit(data)\n",
    "\n",
    "# Centroid values\n",
    "centroids = kmeans.cluster_centers_\n",
    "print(\"KPP: {}\".format(centroids))\n",
    "\n",
    "#With random intialization\n",
    "kmeans = KMeans(n_clusters=num_clusters, init=\"random\")\n",
    "# Fitting the input data\n",
    "kmeans = kmeans.fit(data)\n",
    "\n",
    "# Centroid values\n",
    "centroids = kmeans.cluster_centers_\n",
    "print(\"Random: {}\".format(centroids))"
   ]
  },
  {
   "cell_type": "code",
   "execution_count": null,
   "metadata": {},
   "outputs": [],
   "source": []
  }
 ],
 "metadata": {
  "kernelspec": {
   "display_name": "Python 3",
   "language": "python",
   "name": "python3"
  },
  "language_info": {
   "codemirror_mode": {
    "name": "ipython",
    "version": 3
   },
   "file_extension": ".py",
   "mimetype": "text/x-python",
   "name": "python",
   "nbconvert_exporter": "python",
   "pygments_lexer": "ipython3",
   "version": "3.7.3"
  }
 },
 "nbformat": 4,
 "nbformat_minor": 2
}
