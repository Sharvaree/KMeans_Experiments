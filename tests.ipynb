{
 "cells": [
  {
   "cell_type": "code",
   "execution_count": 1,
   "metadata": {},
   "outputs": [
    {
     "name": "stdout",
     "output_type": "stream",
     "text": [
      "Cluster Centers: [[ 0.12187426 -0.44077312]\n",
      " [-0.15924135  1.00466517]\n",
      " [-0.84451919 -0.65799814]]\n"
     ]
    }
   ],
   "source": [
    "from KmeansPPcenters import KMeanPlusPlus\n",
    "from Gonzalez_centers import Gonzalez\n",
    "from sklearn.cluster import KMeans\n",
    "import numpy as np"
   ]
  },
  {
   "cell_type": "code",
   "execution_count": 2,
   "metadata": {},
   "outputs": [],
   "source": [
    "#dummy data_set\n",
    "from sklearn import cluster, datasets, mixture\n",
    "n_samples=100\n",
    "noisy_circles = datasets.make_circles(n_samples=n_samples, factor=.5,\n",
    "                                      noise=.05)\n",
    "dummy_data= noisy_circles[0]"
   ]
  },
  {
   "cell_type": "code",
   "execution_count": 3,
   "metadata": {},
   "outputs": [
    {
     "name": "stdout",
     "output_type": "stream",
     "text": [
      "[[ 0.62057444 -0.82059407]\n",
      " [-0.31853781  0.88424548]\n",
      " [ 0.13608232 -0.46628316]]\n",
      "[[ 0.62057444 -0.82059407]\n",
      " [-0.64981882  0.79899163]\n",
      " [-0.61242247 -0.91346031]]\n"
     ]
    }
   ],
   "source": [
    "data= dummy_data\n",
    "num_clusters= 3\n",
    "init=data[0]\n",
    "\n",
    "#Get KPP centers\n",
    "KPP=KMeanPlusPlus(num_clusters=num_clusters, init=init)\n",
    "KPP.fit(data)\n",
    "KPP_centers= KPP.centers\n",
    "print(KPP_centers)\n",
    "\n",
    "#Get Gonzalez centers\n",
    "GC_centers = Gonzalez(data, num_clusters=num_clusters, init=init)\n",
    "print(GC_centers)\n"
   ]
  },
  {
   "cell_type": "code",
   "execution_count": 4,
   "metadata": {},
   "outputs": [
    {
     "name": "stdout",
     "output_type": "stream",
     "text": [
      "[[ 0.61643406 -0.19691803]\n",
      " [-0.13133937  0.5893807 ]\n",
      " [-0.44741678 -0.44524558]]\n"
     ]
    },
    {
     "name": "stderr",
     "output_type": "stream",
     "text": [
      "/home/sharv/Programs/anaconda3/lib/python3.7/site-packages/sklearn/cluster/k_means_.py:971: RuntimeWarning: Explicit initial center position passed: performing only one init in k-means instead of n_init=10\n",
      "  return_n_iter=True)\n"
     ]
    }
   ],
   "source": [
    "#With Gonzalez intialization\n",
    "kmeans = KMeans(n_clusters=3, init=GC_centers)\n",
    "# Fitting the input data\n",
    "kmeans = kmeans.fit(data)\n",
    "\n",
    "# Centroid values\n",
    "centroids = kmeans.cluster_centers_\n",
    "print(centroids)"
   ]
  },
  {
   "cell_type": "code",
   "execution_count": 5,
   "metadata": {},
   "outputs": [
    {
     "name": "stdout",
     "output_type": "stream",
     "text": [
      "[[ 0.63192928 -0.18822883]\n",
      " [-0.13133937  0.5893807 ]\n",
      " [-0.43025504 -0.44586433]]\n"
     ]
    },
    {
     "name": "stderr",
     "output_type": "stream",
     "text": [
      "/home/sharv/Programs/anaconda3/lib/python3.7/site-packages/sklearn/cluster/k_means_.py:971: RuntimeWarning: Explicit initial center position passed: performing only one init in k-means instead of n_init=10\n",
      "  return_n_iter=True)\n"
     ]
    }
   ],
   "source": [
    "#With KMeans++ intialization\n",
    "kmeans = KMeans(n_clusters=3, init=KPP_centers)\n",
    "# Fitting the input data\n",
    "kmeans = kmeans.fit(data)\n",
    "\n",
    "# Centroid values\n",
    "centroids = kmeans.cluster_centers_\n",
    "print(centroids)"
   ]
  },
  {
   "cell_type": "code",
   "execution_count": 6,
   "metadata": {},
   "outputs": [
    {
     "name": "stdout",
     "output_type": "stream",
     "text": [
      "[[ 0.6437383  -0.04868948]\n",
      " [-0.33016742 -0.54084608]\n",
      " [-0.26685264  0.54399507]]\n"
     ]
    }
   ],
   "source": [
    "#With random intialization\n",
    "kmeans = KMeans(n_clusters=3, init=\"random\")\n",
    "# Fitting the input data\n",
    "kmeans = kmeans.fit(data)\n",
    "\n",
    "# Centroid values\n",
    "centroids = kmeans.cluster_centers_\n",
    "print(centroids)"
   ]
  },
  {
   "cell_type": "code",
   "execution_count": 7,
   "metadata": {},
   "outputs": [],
   "source": [
    "syn_data= np.loadtxt('syntheticData/data.txt', delimiter=',',unpack=True)"
   ]
  },
  {
   "cell_type": "code",
   "execution_count": 8,
   "metadata": {},
   "outputs": [
    {
     "data": {
      "text/plain": [
       "(15, 6005)"
      ]
     },
     "execution_count": 8,
     "metadata": {},
     "output_type": "execute_result"
    }
   ],
   "source": [
    "syn_data.shape"
   ]
  },
  {
   "cell_type": "code",
   "execution_count": 9,
   "metadata": {},
   "outputs": [],
   "source": [
    "data= syn_data\n",
    "num_clusters= 3\n",
    "init= syn_data[0]"
   ]
  },
  {
   "cell_type": "code",
   "execution_count": 10,
   "metadata": {},
   "outputs": [
    {
     "name": "stdout",
     "output_type": "stream",
     "text": [
      "[[-35.33204622 -31.78034621  11.32942624 ...  44.68930191  44.30261029\n",
      "   44.61988552]\n",
      " [-13.15812021  25.07707819  46.95557147 ... -33.76462645 -33.17714493\n",
      "  -32.69385084]\n",
      " [ 18.61001886  37.81796849 -22.93398242 ...  -0.27973215  -1.3269147\n",
      "   -0.4655225 ]]\n",
      "[[-35.33204622 -31.78034621  11.32942624 ...  44.68930191  44.30261029\n",
      "   44.61988552]\n",
      " [ 43.18477146  36.49402318 -48.26333705 ... -36.72022076 -33.86628919\n",
      "  -36.01530927]\n",
      " [-30.49021007 -48.86737533  47.3599326  ... -21.70028263 -24.15980211\n",
      "  -23.7835648 ]]\n"
     ]
    }
   ],
   "source": [
    "KPP=KMeanPlusPlus(num_clusters=num_clusters, init=init)\n",
    "KPP.fit(data)\n",
    "KPP_centers= KPP.centers\n",
    "print(KPP_centers)\n",
    "\n",
    "#Get Gonzalez centers\n",
    "GC_centers = Gonzalez(data, num_clusters=num_clusters, init=init)\n",
    "print(GC_centers)"
   ]
  },
  {
   "cell_type": "code",
   "execution_count": 16,
   "metadata": {},
   "outputs": [
    {
     "name": "stdout",
     "output_type": "stream",
     "text": [
      "Gconzalez: [[-16.67149987 -21.04338228  15.05385099 ...  14.92967921  15.1945291\n",
      "   15.19784828]\n",
      " [ 13.81092253  25.06311117 -37.56512971 ... -15.29322522 -14.80818016\n",
      "  -15.30605868]\n",
      " [-19.4438002  -18.54585791  26.51158657 ... -28.94499399 -28.45196687\n",
      "  -28.9530064 ]]\n"
     ]
    },
    {
     "name": "stderr",
     "output_type": "stream",
     "text": [
      "/home/sharv/Programs/anaconda3/lib/python3.7/site-packages/sklearn/cluster/k_means_.py:971: RuntimeWarning: Explicit initial center position passed: performing only one init in k-means instead of n_init=10\n",
      "  return_n_iter=True)\n"
     ]
    }
   ],
   "source": []
  },
  {
   "cell_type": "code",
   "execution_count": 14,
   "metadata": {},
   "outputs": [
    {
     "name": "stderr",
     "output_type": "stream",
     "text": [
      "/home/sharv/Programs/anaconda3/lib/python3.7/site-packages/sklearn/cluster/k_means_.py:971: RuntimeWarning: Explicit initial center position passed: performing only one init in k-means instead of n_init=10\n",
      "  return_n_iter=True)\n"
     ]
    },
    {
     "ename": "TypeError",
     "evalue": "ufunc 'add' did not contain a loop with signature matching types dtype('<U32') dtype('<U32') dtype('<U32')",
     "output_type": "error",
     "traceback": [
      "\u001b[0;31m---------------------------------------------------------------------------\u001b[0m",
      "\u001b[0;31mTypeError\u001b[0m                                 Traceback (most recent call last)",
      "\u001b[0;32m<ipython-input-14-9d65301c54b4>\u001b[0m in \u001b[0;36m<module>\u001b[0;34m\u001b[0m\n\u001b[1;32m      6\u001b[0m \u001b[0;31m# Centroid values\u001b[0m\u001b[0;34m\u001b[0m\u001b[0;34m\u001b[0m\u001b[0;34m\u001b[0m\u001b[0m\n\u001b[1;32m      7\u001b[0m \u001b[0mcentroids\u001b[0m \u001b[0;34m=\u001b[0m \u001b[0mkmeans\u001b[0m\u001b[0;34m.\u001b[0m\u001b[0mcluster_centers_\u001b[0m\u001b[0;34m\u001b[0m\u001b[0;34m\u001b[0m\u001b[0m\n\u001b[0;32m----> 8\u001b[0;31m \u001b[0mprint\u001b[0m\u001b[0;34m(\u001b[0m\u001b[0;34m'Gconzalez:'\u001b[0m\u001b[0;34m+\u001b[0m\u001b[0mcentroids\u001b[0m\u001b[0;34m)\u001b[0m\u001b[0;34m\u001b[0m\u001b[0;34m\u001b[0m\u001b[0m\n\u001b[0m\u001b[1;32m      9\u001b[0m \u001b[0;34m\u001b[0m\u001b[0m\n\u001b[1;32m     10\u001b[0m \u001b[0;31m#With KMeans++ intialization\u001b[0m\u001b[0;34m\u001b[0m\u001b[0;34m\u001b[0m\u001b[0;34m\u001b[0m\u001b[0m\n",
      "\u001b[0;31mTypeError\u001b[0m: ufunc 'add' did not contain a loop with signature matching types dtype('<U32') dtype('<U32') dtype('<U32')"
     ]
    }
   ],
   "source": [
    "#With Gonzalez intialization\n",
    "kmeans = KMeans(n_clusters=num_clusters, init=GC_centers)\n",
    "# Fitting the input data\n",
    "kmeans = kmeans.fit(data)\n",
    "\n",
    "# Centroid values\n",
    "centroids = kmeans.cluster_centers_\n",
    "print(\"Gconzalez: {}\".format(centroids))\n",
    "\n",
    "#With KMeans++ intialization\n",
    "kmeans = KMeans(n_clusters=num_clusters, init=KPP_centers)\n",
    "# Fitting the input data\n",
    "kmeans = kmeans.fit(data)\n",
    "\n",
    "# Centroid values\n",
    "centroids = kmeans.cluster_centers_\n",
    "print(\"KPP: {}\".format(centroids))\n",
    "\n",
    "#With random intialization\n",
    "kmeans = KMeans(n_clusters=num_clusters, init=\"random\")\n",
    "# Fitting the input data\n",
    "kmeans = kmeans.fit(data)\n",
    "\n",
    "# Centroid values\n",
    "centroids = kmeans.cluster_centers_\n",
    "print(\"Random: {}\".format(centroids))"
   ]
  },
  {
   "cell_type": "code",
   "execution_count": null,
   "metadata": {},
   "outputs": [],
   "source": []
  }
 ],
 "metadata": {
  "kernelspec": {
   "display_name": "Python 3",
   "language": "python",
   "name": "python3"
  },
  "language_info": {
   "codemirror_mode": {
    "name": "ipython",
    "version": 3
   },
   "file_extension": ".py",
   "mimetype": "text/x-python",
   "name": "python",
   "nbconvert_exporter": "python",
   "pygments_lexer": "ipython3",
   "version": "3.7.3"
  }
 },
 "nbformat": 4,
 "nbformat_minor": 2
}
