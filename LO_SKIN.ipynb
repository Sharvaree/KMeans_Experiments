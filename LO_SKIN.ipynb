{
 "cells": [
  {
   "cell_type": "code",
   "execution_count": 1,
   "metadata": {},
   "outputs": [],
   "source": [
    "from KmeansPPcenters import KMeanPlusPlus\n",
    "from Gonzalez_centers import Gonzalez\n",
    "from sklearn.cluster import KMeans\n",
    "from scipy.spatial import distance\n",
    "import numpy as np\n",
    "import pandas as pd\n",
    "import random\n",
    "import scipy.io as scio\n",
    "from numpy import genfromtxt\n",
    "from KMeansOut import kmeansOutliers, cost\n",
    "from sklearn.metrics import average_precision_score, precision_recall_curve\n",
    "from Noise import add_random_noise, compute_phi_star, cost, add_rand_noise_th\n",
    "from LO import add_noise, LloydOut, KPP_centers, random_centers, LO_cost"
   ]
  },
  {
   "cell_type": "code",
   "execution_count": 2,
   "metadata": {},
   "outputs": [],
   "source": [
    "dirNam = \"realData/Skin/\"\n",
    "proDir = \"realDataProcessed/\"\n",
    "\n",
    "#Processing skin\n",
    "fileName = \"Skin_NonSkin.txt\"\n",
    "\n",
    "skin = np.genfromtxt(dirNam + fileName, delimiter='')\n",
    "\n",
    "np.savetxt(proDir + \"skin.csv\", skin, delimiter=\",\",  fmt='%f')"
   ]
  },
  {
   "cell_type": "code",
   "execution_count": 3,
   "metadata": {},
   "outputs": [],
   "source": [
    "skin_data = genfromtxt('realDataProcessed/skin.csv', delimiter=',')\n",
    "skin_data=skin_data[:,0:3] #remove the labels\n"
   ]
  },
  {
   "cell_type": "code",
   "execution_count": 4,
   "metadata": {},
   "outputs": [],
   "source": [
    "data= skin_data[0:1000, :]\n",
    "num_clusters=20\n",
    "z= 100\n",
    "min_value=10\n",
    "max_value=100\n",
    "tol=.0000000001\n",
    "itr=100"
   ]
  },
  {
   "cell_type": "code",
   "execution_count": 38,
   "metadata": {},
   "outputs": [
    {
     "name": "stdout",
     "output_type": "stream",
     "text": [
      "0\n",
      "1\n",
      "Precision:0.59, recall:0.59\n"
     ]
    }
   ],
   "source": [
    "data_with_outliers, z_indx, data_inliers = add_noise(data, z, min_value, max_value)\n",
    "centers= KPP_centers(data_with_outliers, num_clusters)\n",
    "centers, index=LloydOut(data_with_outliers, centers, num_clusters, z, tol, itr, z_indx )"
   ]
  },
  {
   "cell_type": "code",
   "execution_count": 36,
   "metadata": {},
   "outputs": [],
   "source": [
    "data= skin_data[1:20000,:]\n",
    "num_clusters=20\n",
    "centers= KPP_centers(data, num_clusters)\n",
    "z= 100\n",
    "min_value=10\n",
    "max_value=220\n",
    "tol=.01\n",
    "itr=100"
   ]
  },
  {
   "cell_type": "code",
   "execution_count": 39,
   "metadata": {},
   "outputs": [
    {
     "name": "stdout",
     "output_type": "stream",
     "text": [
      "0\n",
      "1\n",
      "Precision:0.61, recall:0.61\n"
     ]
    }
   ],
   "source": [
    "data_with_outliers, z_indx, data_inliers = add_noise(data, z, min_value, max_value)\n",
    "centers= random_centers(data_with_outliers, num_clusters)\n",
    "centers, index= LloydOut(data_with_outliers, centers, num_clusters, z, tol, itr, z_indx )"
   ]
  },
  {
   "cell_type": "code",
   "execution_count": null,
   "metadata": {},
   "outputs": [],
   "source": []
  }
 ],
 "metadata": {
  "kernelspec": {
   "display_name": "Python 3",
   "language": "python",
   "name": "python3"
  },
  "language_info": {
   "codemirror_mode": {
    "name": "ipython",
    "version": 3
   },
   "file_extension": ".py",
   "mimetype": "text/x-python",
   "name": "python",
   "nbconvert_exporter": "python",
   "pygments_lexer": "ipython3",
   "version": "3.7.3"
  }
 },
 "nbformat": 4,
 "nbformat_minor": 2
}
