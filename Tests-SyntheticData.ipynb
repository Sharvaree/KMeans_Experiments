{
 "cells": [
  {
   "cell_type": "code",
   "execution_count": 1,
   "metadata": {},
   "outputs": [
    {
     "name": "stdout",
     "output_type": "stream",
     "text": [
      "Cluster Centers: [[ 0.53962908  0.05769873]\n",
      " [-0.94959632 -0.34510509]\n",
      " [ 0.30460311  1.03054234]]\n"
     ]
    }
   ],
   "source": [
    "from KmeansPPcenters import KMeanPlusPlus\n",
    "from Gonzalez_centers import Gonzalez\n",
    "from sklearn.cluster import KMeans\n",
    "import numpy as np"
   ]
  },
  {
   "cell_type": "code",
   "execution_count": 2,
   "metadata": {},
   "outputs": [],
   "source": [
    "#dummy data_set\n",
    "from sklearn import cluster, datasets, mixture\n",
    "n_samples=100\n",
    "noisy_circles = datasets.make_circles(n_samples=n_samples, factor=.5,\n",
    "                                      noise=.05)\n",
    "dummy_data= noisy_circles[0]"
   ]
  },
  {
   "cell_type": "code",
   "execution_count": 3,
   "metadata": {},
   "outputs": [
    {
     "name": "stdout",
     "output_type": "stream",
     "text": [
      "[[ 0.26360211 -1.00440674]\n",
      " [-0.38417673 -0.89337436]\n",
      " [ 0.20535637  1.00981106]]\n",
      "[[ 0.26360211 -1.00440674]\n",
      " [-0.43478541  1.00247385]\n",
      " [ 0.74625237  0.80611852]]\n"
     ]
    }
   ],
   "source": [
    "data= dummy_data\n",
    "num_clusters= 3\n",
    "init=data[0]\n",
    "\n",
    "#Get KPP centers\n",
    "KPP=KMeanPlusPlus(num_clusters=num_clusters, init=init)\n",
    "KPP.fit(data)\n",
    "KPP_centers= KPP.centers\n",
    "print(KPP_centers)\n",
    "\n",
    "#Get Gonzalez centers\n",
    "GC_centers = Gonzalez(data, num_clusters=num_clusters, init=init)\n",
    "print(GC_centers)\n"
   ]
  },
  {
   "cell_type": "code",
   "execution_count": 4,
   "metadata": {},
   "outputs": [
    {
     "name": "stdout",
     "output_type": "stream",
     "text": [
      "[[ 0.04187571 -0.61783233]\n",
      " [-0.54183801  0.30717124]\n",
      " [ 0.53867743  0.33614517]]\n"
     ]
    },
    {
     "name": "stderr",
     "output_type": "stream",
     "text": [
      "/home/sharv/Programs/anaconda3/lib/python3.7/site-packages/sklearn/cluster/k_means_.py:971: RuntimeWarning: Explicit initial center position passed: performing only one init in k-means instead of n_init=10\n",
      "  return_n_iter=True)\n"
     ]
    }
   ],
   "source": [
    "#With Gonzalez intialization\n",
    "kmeans = KMeans(n_clusters=3, init=GC_centers)\n",
    "# Fitting the input data\n",
    "kmeans = kmeans.fit(data)\n",
    "\n",
    "# Centroid values\n",
    "centroids = kmeans.cluster_centers_\n",
    "print(centroids)"
   ]
  },
  {
   "cell_type": "code",
   "execution_count": 5,
   "metadata": {},
   "outputs": [
    {
     "name": "stdout",
     "output_type": "stream",
     "text": [
      "[[ 0.48078334 -0.36004394]\n",
      " [-0.58515721 -0.24878158]\n",
      " [ 0.06474465  0.62899142]]\n"
     ]
    },
    {
     "name": "stderr",
     "output_type": "stream",
     "text": [
      "/home/sharv/Programs/anaconda3/lib/python3.7/site-packages/sklearn/cluster/k_means_.py:971: RuntimeWarning: Explicit initial center position passed: performing only one init in k-means instead of n_init=10\n",
      "  return_n_iter=True)\n"
     ]
    }
   ],
   "source": [
    "#With KMeans++ intialization\n",
    "kmeans = KMeans(n_clusters=3, init=KPP_centers)\n",
    "# Fitting the input data\n",
    "kmeans = kmeans.fit(data)\n",
    "\n",
    "# Centroid values\n",
    "centroids = kmeans.cluster_centers_\n",
    "print(centroids)"
   ]
  },
  {
   "cell_type": "code",
   "execution_count": 6,
   "metadata": {},
   "outputs": [
    {
     "name": "stdout",
     "output_type": "stream",
     "text": [
      "[[ 0.33442109 -0.50512659]\n",
      " [ 0.26706022  0.57926561]\n",
      " [-0.63371143 -0.0388177 ]]\n"
     ]
    }
   ],
   "source": [
    "#With random intialization\n",
    "kmeans = KMeans(n_clusters=3, init=\"random\")\n",
    "# Fitting the input data\n",
    "kmeans = kmeans.fit(data)\n",
    "\n",
    "# Centroid values\n",
    "centroids = kmeans.cluster_centers_\n",
    "print(centroids)"
   ]
  },
  {
   "cell_type": "code",
   "execution_count": 7,
   "metadata": {},
   "outputs": [],
   "source": [
    "syn_data= np.loadtxt('syntheticData/data.txt', delimiter=',',unpack=True)"
   ]
  },
  {
   "cell_type": "code",
   "execution_count": 9,
   "metadata": {},
   "outputs": [],
   "source": [
    "data= syn_data\n",
    "num_clusters= 3\n",
    "init= syn_data[0]"
   ]
  },
  {
   "cell_type": "code",
   "execution_count": 10,
   "metadata": {},
   "outputs": [
    {
     "name": "stdout",
     "output_type": "stream",
     "text": [
      "[[-35.33204622 -31.78034621  11.32942624 ...  44.68930191  44.30261029\n",
      "   44.61988552]\n",
      " [-37.33360374 -33.33258347  -6.46929194 ...  42.09551074  42.51300888\n",
      "   42.64019819]\n",
      " [ 18.61001886  37.81796849 -22.93398242 ...  -0.27973215  -1.3269147\n",
      "   -0.4655225 ]]\n",
      "[[-35.33204622 -31.78034621  11.32942624 ...  44.68930191  44.30261029\n",
      "   44.61988552]\n",
      " [ 43.18477146  36.49402318 -48.26333705 ... -36.72022076 -33.86628919\n",
      "  -36.01530927]\n",
      " [-30.49021007 -48.86737533  47.3599326  ... -21.70028263 -24.15980211\n",
      "  -23.7835648 ]]\n"
     ]
    }
   ],
   "source": [
    "KPP=KMeanPlusPlus(num_clusters=num_clusters, init=init)\n",
    "KPP.fit(data)\n",
    "KPP_centers= KPP.centers\n",
    "print(KPP_centers)\n",
    "\n",
    "#Get Gonzalez centers\n",
    "GC_centers = Gonzalez(data, num_clusters=num_clusters, init=init)\n",
    "print(GC_centers)"
   ]
  },
  {
   "cell_type": "code",
   "execution_count": 11,
   "metadata": {},
   "outputs": [
    {
     "name": "stderr",
     "output_type": "stream",
     "text": [
      "/home/sharv/Programs/anaconda3/lib/python3.7/site-packages/sklearn/cluster/k_means_.py:971: RuntimeWarning: Explicit initial center position passed: performing only one init in k-means instead of n_init=10\n",
      "  return_n_iter=True)\n",
      "/home/sharv/Programs/anaconda3/lib/python3.7/site-packages/sklearn/cluster/k_means_.py:971: RuntimeWarning: Explicit initial center position passed: performing only one init in k-means instead of n_init=10\n",
      "  return_n_iter=True)\n"
     ]
    },
    {
     "name": "stdout",
     "output_type": "stream",
     "text": [
      "Gconzalez: [[-16.67149987 -21.04338228  15.05385099 ...  14.92967921  15.1945291\n",
      "   15.19784828]\n",
      " [ 13.81092253  25.06311117 -37.56512971 ... -15.29322522 -14.80818016\n",
      "  -15.30605868]\n",
      " [-19.4438002  -18.54585791  26.51158657 ... -28.94499399 -28.45196687\n",
      "  -28.9530064 ]]\n",
      "KPP: [[-12.5390791  -18.58554205  19.35847958 ...   9.4965129    9.73083315\n",
      "    9.7093783 ]\n",
      " [-27.53709622 -43.57959211  26.08644172 ...  10.19766071   9.64448457\n",
      "    9.4862374 ]\n",
      " [  0.47176772  14.98990685 -14.63302901 ... -27.77076317 -26.84471426\n",
      "  -27.40111153]]\n",
      "Random: [[ 29.80050205  25.3306839  -34.74311111 ...  -9.94190445  -9.59060984\n",
      "  -10.52874914]\n",
      " [-22.42968849 -17.13761769  26.83507006 ...   1.5441777    1.64825682\n",
      "    1.84155632]\n",
      " [ -9.84620662 -13.49687704 -21.55525909 ... -33.46389384 -32.12928743\n",
      "  -33.26331217]]\n"
     ]
    }
   ],
   "source": [
    "#With Gonzalez intialization\n",
    "kmeans = KMeans(n_clusters=num_clusters, init=GC_centers)\n",
    "# Fitting the input data\n",
    "kmeans = kmeans.fit(data)\n",
    "\n",
    "# Centroid values\n",
    "centroids = kmeans.cluster_centers_\n",
    "print(\"Gconzalez: {}\".format(centroids))\n",
    "\n",
    "#With KMeans++ intialization\n",
    "kmeans = KMeans(n_clusters=num_clusters, init=KPP_centers)\n",
    "# Fitting the input data\n",
    "kmeans = kmeans.fit(data)\n",
    "\n",
    "# Centroid values\n",
    "centroids = kmeans.cluster_centers_\n",
    "print(\"KPP: {}\".format(centroids))\n",
    "\n",
    "#With random intialization\n",
    "kmeans = KMeans(n_clusters=num_clusters, init=\"random\")\n",
    "# Fitting the input data\n",
    "kmeans = kmeans.fit(data)\n",
    "\n",
    "# Centroid values\n",
    "centroids = kmeans.cluster_centers_\n",
    "print(\"Random: {}\".format(centroids))"
   ]
  },
  {
   "cell_type": "code",
   "execution_count": null,
   "metadata": {},
   "outputs": [],
   "source": []
  }
 ],
 "metadata": {
  "kernelspec": {
   "display_name": "Python 3",
   "language": "python",
   "name": "python3"
  },
  "language_info": {
   "codemirror_mode": {
    "name": "ipython",
    "version": 3
   },
   "file_extension": ".py",
   "mimetype": "text/x-python",
   "name": "python",
   "nbconvert_exporter": "python",
   "pygments_lexer": "ipython3",
   "version": "3.7.3"
  }
 },
 "nbformat": 4,
 "nbformat_minor": 2
}
